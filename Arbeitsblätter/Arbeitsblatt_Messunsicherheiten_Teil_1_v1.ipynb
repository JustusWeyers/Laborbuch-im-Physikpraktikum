{
  "nbformat": 4,
  "nbformat_minor": 0,
  "metadata": {
    "colab": {
      "provenance": [],
      "include_colab_link": true
    },
    "kernelspec": {
      "name": "python3",
      "display_name": "Python 3"
    },
    "language_info": {
      "name": "python"
    }
  },
  "cells": [
    {
      "cell_type": "markdown",
      "metadata": {
        "id": "view-in-github",
        "colab_type": "text"
      },
      "source": [
        "<a href=\"https://colab.research.google.com/github/JustusWeyers/Laborbuch-im-Physikpraktikum/blob/main/Arbeitsbl%C3%A4tter/Arbeitsblatt_Messunsicherheiten_Teil_1_v1.ipynb\" target=\"_parent\"><img src=\"https://colab.research.google.com/assets/colab-badge.svg\" alt=\"Open In Colab\"/></a>"
      ]
    },
    {
      "cell_type": "markdown",
      "source": [
        "# Aufgabe 1\n",
        "Runden Sie folgende Messunsicherheiten auf zwei signifikante Stellen"
      ],
      "metadata": {
        "id": "ckhstoumpoyc"
      }
    },
    {
      "cell_type": "markdown",
      "source": [
        "$$\n",
        "\t\t\\begin{array}{lll}\n",
        "\t\t\t\\hline\n",
        "\t\t\tMessunsicherheit & Gerundet\\ auf\\ zwei\\ signifikante\\ Stellen \\\\\n",
        "\t\t\t\\hline\n",
        "\t\t\t5,36g & 5,4g \\\\\n",
        "\t\t\t958mm & 960mm \\\\\n",
        "\t\t\t0,077l & 0,077l \\\\\n",
        "\t\t\t0,73954 * 10^{-19} C & 0,74*10^{-19}  C \\\\\n",
        "\t\t\t0,19792458 * 10^8 \\frac{m}{s} & 0,20 * 10^8 \\frac{m}{s} \\\\\n",
        "\t\t\t3m^2 & 3,0m^2 \\\\\n",
        "\t\t\t0,2 \\frac{m}{s^2} & 0,20 \\frac{m}{s^2} \\\\\n",
        "\t\t\t\\hline\n",
        "\t\t\\end{array}\n",
        "$$"
      ],
      "metadata": {
        "id": "Oh33zAHx3s3C"
      }
    },
    {
      "cell_type": "markdown",
      "source": [
        "# Aufgabe 2\n",
        "Korrigieren Sie die folgenden (falschen) Angaben bezüglich der Messunsicherheiten"
      ],
      "metadata": {
        "id": "hHFA-CkzWtcX"
      }
    },
    {
      "cell_type": "markdown",
      "source": [
        "$$\n",
        "\t\t\\begin{array}{lll}\n",
        "\t\t\t\\hline\n",
        "\t\t\tfalsche\\ Angaben & richtige\\ Angaben \\\\\n",
        "\t\t\t\\hline\n",
        "\t\t\t(358,2 \\pm 52)𝑚𝑚 & (358 \\pm 52)𝑚𝑚 \\\\\n",
        "\t\t\t(0,087 \\pm 0,23)𝑙 & (0,09 \\pm 0,23)𝑙 \\\\\n",
        "\t\t\t(1,602176 \\pm 0,353) ∗ 10−19𝐶 & (1,60 \\pm 0,35) ∗ 10−19𝐶 \\\\\n",
        "\t\t\t(2,99792458 \\pm 0,00050)∗ 10^8\\frac{m}{s} & (2,99792 \\pm 0,00050)∗ 10^8\\frac{m}{s} \\\\\n",
        "\t\t\t(67,5 \\pm 0,34)𝑚𝑙 & (67,50 \\pm 0,34)𝑚𝑙 \\\\\n",
        "\t\t\t(9,9917 \\pm 0,4552)\\frac{m}{s^2} & (10,00 \\pm 0,46)\\frac{m}{s^2} \\\\\n",
        "\t\t\t(730,891 \\pm 24,33)𝑚𝑏𝑎𝑟 & (730,89 \\pm 24,33)𝑚𝑏𝑎𝑟 \\\\\n",
        "\t\t\t\\hline\n",
        "\t\t\\end{array}\n",
        "$$"
      ],
      "metadata": {
        "id": "WZZzIDG3Xi1X"
      }
    },
    {
      "cell_type": "markdown",
      "source": [
        "# Aufgabe 3\n",
        "\n",
        "Zur Berechnung der Statistischen Kennwerte werden die Messwerte in einem Dataframe zusammengefasst:"
      ],
      "metadata": {
        "id": "hnQKta_r-gPU"
      }
    },
    {
      "cell_type": "code",
      "source": [
        "import pandas as pd\n",
        "import numpy as np\n",
        "import statistics as stat\n",
        "import math\n",
        "\n",
        "# Eingabe der Messwerte für Gruppe 1 und 2\n",
        "gruppe1_d_mm = pd.Series([436.6, 426.1, 438.3, 426.1, 434.0, 438.8], \n",
        "                         index=range(1,7))\n",
        "gruppe2_d_mm = pd.Series([422.9, 430.4, 425.6, 419.7, 427.2, 417.8], \n",
        "                         index=range(1,7))\n",
        "\n",
        "# Zusammenfassen der Ergebnisse in einen Dataframe\n",
        "messwerte = pd.concat([gruppe1_d_mm, gruppe2_d_mm], axis=1)\n",
        "# Spaltenbenennung des messwerte-Dataframes\n",
        "messwerte.columns = ['Gruppe1_d_mm', 'Gruppe2_d_mm']\n",
        "\n",
        "# Student-Faktor t (n = 6)\n"
      ],
      "metadata": {
        "id": "EG7VWKYN-liW"
      },
      "execution_count": 49,
      "outputs": []
    },
    {
      "cell_type": "code",
      "source": [
        "from scipy.stats import t\n",
        "\n",
        "import stats\n",
        "#generate random values from t distribution with df=6 and sample size=10\n",
        "stats.t.ppf(1-.66, 6 - 1)"
      ],
      "metadata": {
        "colab": {
          "base_uri": "https://localhost:8080/",
          "height": 375
        },
        "id": "esVfUDs1TqV_",
        "outputId": "2c9c3652-7f0b-4abb-a7c5-0baddfd451d8"
      },
      "execution_count": 75,
      "outputs": [
        {
          "output_type": "error",
          "ename": "ModuleNotFoundError",
          "evalue": "ignored",
          "traceback": [
            "\u001b[0;31m---------------------------------------------------------------------------\u001b[0m",
            "\u001b[0;31mModuleNotFoundError\u001b[0m                       Traceback (most recent call last)",
            "\u001b[0;32m<ipython-input-75-12dfe2ca0166>\u001b[0m in \u001b[0;36m<module>\u001b[0;34m\u001b[0m\n\u001b[1;32m      1\u001b[0m \u001b[0;32mfrom\u001b[0m \u001b[0mscipy\u001b[0m\u001b[0;34m.\u001b[0m\u001b[0mstats\u001b[0m \u001b[0;32mimport\u001b[0m \u001b[0mt\u001b[0m\u001b[0;34m\u001b[0m\u001b[0;34m\u001b[0m\u001b[0m\n\u001b[1;32m      2\u001b[0m \u001b[0;34m\u001b[0m\u001b[0m\n\u001b[0;32m----> 3\u001b[0;31m \u001b[0;32mimport\u001b[0m \u001b[0mstats\u001b[0m\u001b[0;34m\u001b[0m\u001b[0;34m\u001b[0m\u001b[0m\n\u001b[0m\u001b[1;32m      4\u001b[0m \u001b[0;31m#generate random values from t distribution with df=6 and sample size=10\u001b[0m\u001b[0;34m\u001b[0m\u001b[0;34m\u001b[0m\u001b[0;34m\u001b[0m\u001b[0m\n\u001b[1;32m      5\u001b[0m \u001b[0mstats\u001b[0m\u001b[0;34m.\u001b[0m\u001b[0mt\u001b[0m\u001b[0;34m.\u001b[0m\u001b[0mppf\u001b[0m\u001b[0;34m(\u001b[0m\u001b[0;36m1\u001b[0m\u001b[0;34m-\u001b[0m\u001b[0;36m.66\u001b[0m\u001b[0;34m,\u001b[0m \u001b[0;36m6\u001b[0m \u001b[0;34m-\u001b[0m \u001b[0;36m1\u001b[0m\u001b[0;34m)\u001b[0m\u001b[0;34m\u001b[0m\u001b[0;34m\u001b[0m\u001b[0m\n",
            "\u001b[0;31mModuleNotFoundError\u001b[0m: No module named 'stats'",
            "",
            "\u001b[0;31m---------------------------------------------------------------------------\u001b[0;32m\nNOTE: If your import is failing due to a missing package, you can\nmanually install dependencies using either !pip or !apt.\n\nTo view examples of installing some common dependencies, click the\n\"Open Examples\" button below.\n\u001b[0;31m---------------------------------------------------------------------------\u001b[0m\n"
          ],
          "errorDetails": {
            "actions": [
              {
                "action": "open_url",
                "actionText": "Open Examples",
                "url": "/notebooks/snippets/importing_libraries.ipynb"
              }
            ]
          }
        }
      ]
    },
    {
      "cell_type": "code",
      "source": [
        "maßzahl = ['Mittelwert', 'Stabw.', 'Stabw.Mittelwert', 'Student', 'Vertrauensabw.']\n"
      ],
      "metadata": {
        "id": "neW0fow6MNom"
      },
      "execution_count": null,
      "outputs": []
    },
    {
      "cell_type": "code",
      "source": [
        "mw = messwerte.apply(stat.mean, axis=0)\n",
        "sd = messwerte.apply(stat.stdev, axis=0)\n",
        "def stabwdmw (v): return(stat.stdev(v)/math.sqrt(len(v)))\n",
        "sdm = messwerte.apply(stabwdmw, axis=0)\n",
        "\n",
        "np.vstack((mw, sd, sdm))"
      ],
      "metadata": {
        "colab": {
          "base_uri": "https://localhost:8080/"
        },
        "id": "-9cooi5hNmyT",
        "outputId": "5e9e4fe6-7276-46d6-a4ed-4588761aa619"
      },
      "execution_count": 64,
      "outputs": [
        {
          "output_type": "execute_result",
          "data": {
            "text/plain": [
              "array([[433.31666667, 423.93333333],\n",
              "       [  5.83623737,   4.73018675],\n",
              "       [  2.38263393,   1.93109065]])"
            ]
          },
          "metadata": {},
          "execution_count": 64
        }
      ]
    },
    {
      "cell_type": "markdown",
      "source": [
        "Berechnug der statistischen Kenngrößen:\n",
        "\n",
        "* Mittelwert $\\bar{x}=\\frac{1}{n}\\sum\\limits_{i=0}^{n}x_i$"
      ],
      "metadata": {
        "id": "qJUmw3PfAdLL"
      }
    },
    {
      "cell_type": "code",
      "source": [
        "mw = {'Mittelwert_Gruppe1_d_mm': [stat.mean(messwerte['Gruppe1_d_mm'])], \n",
        "      'Mittelwert_Gruppe2_d_mm': [stat.mean(messwerte['Gruppe2_d_mm'])]}\n",
        "mw = pd.DataFrame(data=mw).round(decimals=1)\n",
        "mw"
      ],
      "metadata": {
        "colab": {
          "base_uri": "https://localhost:8080/",
          "height": 80
        },
        "id": "uzVKO-SQBD_6",
        "outputId": "7d8c70ec-42d4-4dc0-c7a7-4c28dad5a8ea"
      },
      "execution_count": 28,
      "outputs": [
        {
          "output_type": "execute_result",
          "data": {
            "text/plain": [
              "   Mittelwert_Gruppe1_d_mm  Mittelwert_Gruppe2_d_mm\n",
              "0                    433.3                    423.9"
            ],
            "text/html": [
              "\n",
              "  <div id=\"df-90d4fb83-b45c-412b-8c4b-27a7dea9d1d3\">\n",
              "    <div class=\"colab-df-container\">\n",
              "      <div>\n",
              "<style scoped>\n",
              "    .dataframe tbody tr th:only-of-type {\n",
              "        vertical-align: middle;\n",
              "    }\n",
              "\n",
              "    .dataframe tbody tr th {\n",
              "        vertical-align: top;\n",
              "    }\n",
              "\n",
              "    .dataframe thead th {\n",
              "        text-align: right;\n",
              "    }\n",
              "</style>\n",
              "<table border=\"1\" class=\"dataframe\">\n",
              "  <thead>\n",
              "    <tr style=\"text-align: right;\">\n",
              "      <th></th>\n",
              "      <th>Mittelwert_Gruppe1_d_mm</th>\n",
              "      <th>Mittelwert_Gruppe2_d_mm</th>\n",
              "    </tr>\n",
              "  </thead>\n",
              "  <tbody>\n",
              "    <tr>\n",
              "      <th>0</th>\n",
              "      <td>433.3</td>\n",
              "      <td>423.9</td>\n",
              "    </tr>\n",
              "  </tbody>\n",
              "</table>\n",
              "</div>\n",
              "      <button class=\"colab-df-convert\" onclick=\"convertToInteractive('df-90d4fb83-b45c-412b-8c4b-27a7dea9d1d3')\"\n",
              "              title=\"Convert this dataframe to an interactive table.\"\n",
              "              style=\"display:none;\">\n",
              "        \n",
              "  <svg xmlns=\"http://www.w3.org/2000/svg\" height=\"24px\"viewBox=\"0 0 24 24\"\n",
              "       width=\"24px\">\n",
              "    <path d=\"M0 0h24v24H0V0z\" fill=\"none\"/>\n",
              "    <path d=\"M18.56 5.44l.94 2.06.94-2.06 2.06-.94-2.06-.94-.94-2.06-.94 2.06-2.06.94zm-11 1L8.5 8.5l.94-2.06 2.06-.94-2.06-.94L8.5 2.5l-.94 2.06-2.06.94zm10 10l.94 2.06.94-2.06 2.06-.94-2.06-.94-.94-2.06-.94 2.06-2.06.94z\"/><path d=\"M17.41 7.96l-1.37-1.37c-.4-.4-.92-.59-1.43-.59-.52 0-1.04.2-1.43.59L10.3 9.45l-7.72 7.72c-.78.78-.78 2.05 0 2.83L4 21.41c.39.39.9.59 1.41.59.51 0 1.02-.2 1.41-.59l7.78-7.78 2.81-2.81c.8-.78.8-2.07 0-2.86zM5.41 20L4 18.59l7.72-7.72 1.47 1.35L5.41 20z\"/>\n",
              "  </svg>\n",
              "      </button>\n",
              "      \n",
              "  <style>\n",
              "    .colab-df-container {\n",
              "      display:flex;\n",
              "      flex-wrap:wrap;\n",
              "      gap: 12px;\n",
              "    }\n",
              "\n",
              "    .colab-df-convert {\n",
              "      background-color: #E8F0FE;\n",
              "      border: none;\n",
              "      border-radius: 50%;\n",
              "      cursor: pointer;\n",
              "      display: none;\n",
              "      fill: #1967D2;\n",
              "      height: 32px;\n",
              "      padding: 0 0 0 0;\n",
              "      width: 32px;\n",
              "    }\n",
              "\n",
              "    .colab-df-convert:hover {\n",
              "      background-color: #E2EBFA;\n",
              "      box-shadow: 0px 1px 2px rgba(60, 64, 67, 0.3), 0px 1px 3px 1px rgba(60, 64, 67, 0.15);\n",
              "      fill: #174EA6;\n",
              "    }\n",
              "\n",
              "    [theme=dark] .colab-df-convert {\n",
              "      background-color: #3B4455;\n",
              "      fill: #D2E3FC;\n",
              "    }\n",
              "\n",
              "    [theme=dark] .colab-df-convert:hover {\n",
              "      background-color: #434B5C;\n",
              "      box-shadow: 0px 1px 3px 1px rgba(0, 0, 0, 0.15);\n",
              "      filter: drop-shadow(0px 1px 2px rgba(0, 0, 0, 0.3));\n",
              "      fill: #FFFFFF;\n",
              "    }\n",
              "  </style>\n",
              "\n",
              "      <script>\n",
              "        const buttonEl =\n",
              "          document.querySelector('#df-90d4fb83-b45c-412b-8c4b-27a7dea9d1d3 button.colab-df-convert');\n",
              "        buttonEl.style.display =\n",
              "          google.colab.kernel.accessAllowed ? 'block' : 'none';\n",
              "\n",
              "        async function convertToInteractive(key) {\n",
              "          const element = document.querySelector('#df-90d4fb83-b45c-412b-8c4b-27a7dea9d1d3');\n",
              "          const dataTable =\n",
              "            await google.colab.kernel.invokeFunction('convertToInteractive',\n",
              "                                                     [key], {});\n",
              "          if (!dataTable) return;\n",
              "\n",
              "          const docLinkHtml = 'Like what you see? Visit the ' +\n",
              "            '<a target=\"_blank\" href=https://colab.research.google.com/notebooks/data_table.ipynb>data table notebook</a>'\n",
              "            + ' to learn more about interactive tables.';\n",
              "          element.innerHTML = '';\n",
              "          dataTable['output_type'] = 'display_data';\n",
              "          await google.colab.output.renderOutput(dataTable, element);\n",
              "          const docLink = document.createElement('div');\n",
              "          docLink.innerHTML = docLinkHtml;\n",
              "          element.appendChild(docLink);\n",
              "        }\n",
              "      </script>\n",
              "    </div>\n",
              "  </div>\n",
              "  "
            ]
          },
          "metadata": {},
          "execution_count": 28
        }
      ]
    },
    {
      "cell_type": "markdown",
      "source": [
        "*  Berechnung Empirische Standardabweichung $\\sigma = \\sqrt{\\frac{1}{n-1}\\sum\\limits_{i}^{n}(x_i-\\bar{x})^2)}$"
      ],
      "metadata": {
        "id": "-POqNkplE-IK"
      }
    },
    {
      "cell_type": "code",
      "source": [
        "sd = {'Stabw_Gruppe1_d_mm': [stat.stdev(messwerte['Gruppe1_d_mm'])], \n",
        "      'Stabw_Gruppe2_d_mm': [stat.stdev(messwerte['Gruppe2_d_mm'])]}\n",
        "sd = pd.DataFrame(data=sd).round(decimals=1)\n",
        "sd"
      ],
      "metadata": {
        "colab": {
          "base_uri": "https://localhost:8080/",
          "height": 80
        },
        "id": "JRupxDz_FXi3",
        "outputId": "138e9e7e-7c53-4a6d-eb1e-92608026abea"
      },
      "execution_count": 29,
      "outputs": [
        {
          "output_type": "execute_result",
          "data": {
            "text/plain": [
              "   Stabw_Gruppe1_d_mm  Stabw_Gruppe2_d_mm\n",
              "0                 5.8                 4.7"
            ],
            "text/html": [
              "\n",
              "  <div id=\"df-7ef627a2-af6e-4806-a8c7-e19b9c2718aa\">\n",
              "    <div class=\"colab-df-container\">\n",
              "      <div>\n",
              "<style scoped>\n",
              "    .dataframe tbody tr th:only-of-type {\n",
              "        vertical-align: middle;\n",
              "    }\n",
              "\n",
              "    .dataframe tbody tr th {\n",
              "        vertical-align: top;\n",
              "    }\n",
              "\n",
              "    .dataframe thead th {\n",
              "        text-align: right;\n",
              "    }\n",
              "</style>\n",
              "<table border=\"1\" class=\"dataframe\">\n",
              "  <thead>\n",
              "    <tr style=\"text-align: right;\">\n",
              "      <th></th>\n",
              "      <th>Stabw_Gruppe1_d_mm</th>\n",
              "      <th>Stabw_Gruppe2_d_mm</th>\n",
              "    </tr>\n",
              "  </thead>\n",
              "  <tbody>\n",
              "    <tr>\n",
              "      <th>0</th>\n",
              "      <td>5.8</td>\n",
              "      <td>4.7</td>\n",
              "    </tr>\n",
              "  </tbody>\n",
              "</table>\n",
              "</div>\n",
              "      <button class=\"colab-df-convert\" onclick=\"convertToInteractive('df-7ef627a2-af6e-4806-a8c7-e19b9c2718aa')\"\n",
              "              title=\"Convert this dataframe to an interactive table.\"\n",
              "              style=\"display:none;\">\n",
              "        \n",
              "  <svg xmlns=\"http://www.w3.org/2000/svg\" height=\"24px\"viewBox=\"0 0 24 24\"\n",
              "       width=\"24px\">\n",
              "    <path d=\"M0 0h24v24H0V0z\" fill=\"none\"/>\n",
              "    <path d=\"M18.56 5.44l.94 2.06.94-2.06 2.06-.94-2.06-.94-.94-2.06-.94 2.06-2.06.94zm-11 1L8.5 8.5l.94-2.06 2.06-.94-2.06-.94L8.5 2.5l-.94 2.06-2.06.94zm10 10l.94 2.06.94-2.06 2.06-.94-2.06-.94-.94-2.06-.94 2.06-2.06.94z\"/><path d=\"M17.41 7.96l-1.37-1.37c-.4-.4-.92-.59-1.43-.59-.52 0-1.04.2-1.43.59L10.3 9.45l-7.72 7.72c-.78.78-.78 2.05 0 2.83L4 21.41c.39.39.9.59 1.41.59.51 0 1.02-.2 1.41-.59l7.78-7.78 2.81-2.81c.8-.78.8-2.07 0-2.86zM5.41 20L4 18.59l7.72-7.72 1.47 1.35L5.41 20z\"/>\n",
              "  </svg>\n",
              "      </button>\n",
              "      \n",
              "  <style>\n",
              "    .colab-df-container {\n",
              "      display:flex;\n",
              "      flex-wrap:wrap;\n",
              "      gap: 12px;\n",
              "    }\n",
              "\n",
              "    .colab-df-convert {\n",
              "      background-color: #E8F0FE;\n",
              "      border: none;\n",
              "      border-radius: 50%;\n",
              "      cursor: pointer;\n",
              "      display: none;\n",
              "      fill: #1967D2;\n",
              "      height: 32px;\n",
              "      padding: 0 0 0 0;\n",
              "      width: 32px;\n",
              "    }\n",
              "\n",
              "    .colab-df-convert:hover {\n",
              "      background-color: #E2EBFA;\n",
              "      box-shadow: 0px 1px 2px rgba(60, 64, 67, 0.3), 0px 1px 3px 1px rgba(60, 64, 67, 0.15);\n",
              "      fill: #174EA6;\n",
              "    }\n",
              "\n",
              "    [theme=dark] .colab-df-convert {\n",
              "      background-color: #3B4455;\n",
              "      fill: #D2E3FC;\n",
              "    }\n",
              "\n",
              "    [theme=dark] .colab-df-convert:hover {\n",
              "      background-color: #434B5C;\n",
              "      box-shadow: 0px 1px 3px 1px rgba(0, 0, 0, 0.15);\n",
              "      filter: drop-shadow(0px 1px 2px rgba(0, 0, 0, 0.3));\n",
              "      fill: #FFFFFF;\n",
              "    }\n",
              "  </style>\n",
              "\n",
              "      <script>\n",
              "        const buttonEl =\n",
              "          document.querySelector('#df-7ef627a2-af6e-4806-a8c7-e19b9c2718aa button.colab-df-convert');\n",
              "        buttonEl.style.display =\n",
              "          google.colab.kernel.accessAllowed ? 'block' : 'none';\n",
              "\n",
              "        async function convertToInteractive(key) {\n",
              "          const element = document.querySelector('#df-7ef627a2-af6e-4806-a8c7-e19b9c2718aa');\n",
              "          const dataTable =\n",
              "            await google.colab.kernel.invokeFunction('convertToInteractive',\n",
              "                                                     [key], {});\n",
              "          if (!dataTable) return;\n",
              "\n",
              "          const docLinkHtml = 'Like what you see? Visit the ' +\n",
              "            '<a target=\"_blank\" href=https://colab.research.google.com/notebooks/data_table.ipynb>data table notebook</a>'\n",
              "            + ' to learn more about interactive tables.';\n",
              "          element.innerHTML = '';\n",
              "          dataTable['output_type'] = 'display_data';\n",
              "          await google.colab.output.renderOutput(dataTable, element);\n",
              "          const docLink = document.createElement('div');\n",
              "          docLink.innerHTML = docLinkHtml;\n",
              "          element.appendChild(docLink);\n",
              "        }\n",
              "      </script>\n",
              "    </div>\n",
              "  </div>\n",
              "  "
            ]
          },
          "metadata": {},
          "execution_count": 29
        }
      ]
    },
    {
      "cell_type": "markdown",
      "source": [
        "* Berechnung Standardabweichung des Mittelwertes $\\bar{s}=\\frac{\\sigma}{\\sqrt{n}}$\n"
      ],
      "metadata": {
        "id": "YLdplGjtG4hT"
      }
    },
    {
      "cell_type": "code",
      "source": [
        "sdm = {'StabwMwert_Gruppe1_d_mm': [sd['Stabw_Gruppe1_d_mm'][0]/math.sqrt(n)], \n",
        "       'StabwMwert_Gruppe2_d_mm': [sd['Stabw_Gruppe2_d_mm'][0]/math.sqrt(n)]}\n",
        "sdm = pd.DataFrame(data=sdm).round(decimals=1)\n",
        "sdm   "
      ],
      "metadata": {
        "colab": {
          "base_uri": "https://localhost:8080/",
          "height": 80
        },
        "id": "KiBcpSZPIgoX",
        "outputId": "943d48d0-f12f-4077-e621-50a7ef730494"
      },
      "execution_count": 39,
      "outputs": [
        {
          "output_type": "execute_result",
          "data": {
            "text/plain": [
              "   StabwMwert_Gruppe1_d_mm  StabwMwert_Gruppe2_d_mm\n",
              "0                      2.4                      1.9"
            ],
            "text/html": [
              "\n",
              "  <div id=\"df-1d8ca312-eff6-4a3e-9f3b-2d8dfd91a9b1\">\n",
              "    <div class=\"colab-df-container\">\n",
              "      <div>\n",
              "<style scoped>\n",
              "    .dataframe tbody tr th:only-of-type {\n",
              "        vertical-align: middle;\n",
              "    }\n",
              "\n",
              "    .dataframe tbody tr th {\n",
              "        vertical-align: top;\n",
              "    }\n",
              "\n",
              "    .dataframe thead th {\n",
              "        text-align: right;\n",
              "    }\n",
              "</style>\n",
              "<table border=\"1\" class=\"dataframe\">\n",
              "  <thead>\n",
              "    <tr style=\"text-align: right;\">\n",
              "      <th></th>\n",
              "      <th>StabwMwert_Gruppe1_d_mm</th>\n",
              "      <th>StabwMwert_Gruppe2_d_mm</th>\n",
              "    </tr>\n",
              "  </thead>\n",
              "  <tbody>\n",
              "    <tr>\n",
              "      <th>0</th>\n",
              "      <td>2.4</td>\n",
              "      <td>1.9</td>\n",
              "    </tr>\n",
              "  </tbody>\n",
              "</table>\n",
              "</div>\n",
              "      <button class=\"colab-df-convert\" onclick=\"convertToInteractive('df-1d8ca312-eff6-4a3e-9f3b-2d8dfd91a9b1')\"\n",
              "              title=\"Convert this dataframe to an interactive table.\"\n",
              "              style=\"display:none;\">\n",
              "        \n",
              "  <svg xmlns=\"http://www.w3.org/2000/svg\" height=\"24px\"viewBox=\"0 0 24 24\"\n",
              "       width=\"24px\">\n",
              "    <path d=\"M0 0h24v24H0V0z\" fill=\"none\"/>\n",
              "    <path d=\"M18.56 5.44l.94 2.06.94-2.06 2.06-.94-2.06-.94-.94-2.06-.94 2.06-2.06.94zm-11 1L8.5 8.5l.94-2.06 2.06-.94-2.06-.94L8.5 2.5l-.94 2.06-2.06.94zm10 10l.94 2.06.94-2.06 2.06-.94-2.06-.94-.94-2.06-.94 2.06-2.06.94z\"/><path d=\"M17.41 7.96l-1.37-1.37c-.4-.4-.92-.59-1.43-.59-.52 0-1.04.2-1.43.59L10.3 9.45l-7.72 7.72c-.78.78-.78 2.05 0 2.83L4 21.41c.39.39.9.59 1.41.59.51 0 1.02-.2 1.41-.59l7.78-7.78 2.81-2.81c.8-.78.8-2.07 0-2.86zM5.41 20L4 18.59l7.72-7.72 1.47 1.35L5.41 20z\"/>\n",
              "  </svg>\n",
              "      </button>\n",
              "      \n",
              "  <style>\n",
              "    .colab-df-container {\n",
              "      display:flex;\n",
              "      flex-wrap:wrap;\n",
              "      gap: 12px;\n",
              "    }\n",
              "\n",
              "    .colab-df-convert {\n",
              "      background-color: #E8F0FE;\n",
              "      border: none;\n",
              "      border-radius: 50%;\n",
              "      cursor: pointer;\n",
              "      display: none;\n",
              "      fill: #1967D2;\n",
              "      height: 32px;\n",
              "      padding: 0 0 0 0;\n",
              "      width: 32px;\n",
              "    }\n",
              "\n",
              "    .colab-df-convert:hover {\n",
              "      background-color: #E2EBFA;\n",
              "      box-shadow: 0px 1px 2px rgba(60, 64, 67, 0.3), 0px 1px 3px 1px rgba(60, 64, 67, 0.15);\n",
              "      fill: #174EA6;\n",
              "    }\n",
              "\n",
              "    [theme=dark] .colab-df-convert {\n",
              "      background-color: #3B4455;\n",
              "      fill: #D2E3FC;\n",
              "    }\n",
              "\n",
              "    [theme=dark] .colab-df-convert:hover {\n",
              "      background-color: #434B5C;\n",
              "      box-shadow: 0px 1px 3px 1px rgba(0, 0, 0, 0.15);\n",
              "      filter: drop-shadow(0px 1px 2px rgba(0, 0, 0, 0.3));\n",
              "      fill: #FFFFFF;\n",
              "    }\n",
              "  </style>\n",
              "\n",
              "      <script>\n",
              "        const buttonEl =\n",
              "          document.querySelector('#df-1d8ca312-eff6-4a3e-9f3b-2d8dfd91a9b1 button.colab-df-convert');\n",
              "        buttonEl.style.display =\n",
              "          google.colab.kernel.accessAllowed ? 'block' : 'none';\n",
              "\n",
              "        async function convertToInteractive(key) {\n",
              "          const element = document.querySelector('#df-1d8ca312-eff6-4a3e-9f3b-2d8dfd91a9b1');\n",
              "          const dataTable =\n",
              "            await google.colab.kernel.invokeFunction('convertToInteractive',\n",
              "                                                     [key], {});\n",
              "          if (!dataTable) return;\n",
              "\n",
              "          const docLinkHtml = 'Like what you see? Visit the ' +\n",
              "            '<a target=\"_blank\" href=https://colab.research.google.com/notebooks/data_table.ipynb>data table notebook</a>'\n",
              "            + ' to learn more about interactive tables.';\n",
              "          element.innerHTML = '';\n",
              "          dataTable['output_type'] = 'display_data';\n",
              "          await google.colab.output.renderOutput(dataTable, element);\n",
              "          const docLink = document.createElement('div');\n",
              "          docLink.innerHTML = docLinkHtml;\n",
              "          element.appendChild(docLink);\n",
              "        }\n",
              "      </script>\n",
              "    </div>\n",
              "  </div>\n",
              "  "
            ]
          },
          "metadata": {},
          "execution_count": 39
        }
      ]
    }
  ]
}