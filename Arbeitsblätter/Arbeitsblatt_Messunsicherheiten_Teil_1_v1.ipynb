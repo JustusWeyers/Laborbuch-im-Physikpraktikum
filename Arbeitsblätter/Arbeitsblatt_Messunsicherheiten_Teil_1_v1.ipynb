{
  "nbformat": 4,
  "nbformat_minor": 0,
  "metadata": {
    "colab": {
      "provenance": [],
      "include_colab_link": true
    },
    "kernelspec": {
      "name": "python3",
      "display_name": "Python 3"
    },
    "language_info": {
      "name": "python"
    }
  },
  "cells": [
    {
      "cell_type": "markdown",
      "metadata": {
        "id": "view-in-github",
        "colab_type": "text"
      },
      "source": [
        "<a href=\"https://colab.research.google.com/github/JustusWeyers/Laborbuch-im-Physikpraktikum/blob/main/Arbeitsbl%C3%A4tter/Arbeitsblatt_Messunsicherheiten_Teil_1_v1.ipynb\" target=\"_parent\"><img src=\"https://colab.research.google.com/assets/colab-badge.svg\" alt=\"Open In Colab\"/></a>"
      ]
    },
    {
      "cell_type": "markdown",
      "source": [
        "# Aufgabe 1\n",
        "Runden Sie folgende Messunsicherheiten auf zwei signifikante Stellen"
      ],
      "metadata": {
        "id": "ckhstoumpoyc"
      }
    },
    {
      "cell_type": "markdown",
      "source": [
        "$$\n",
        "\t\t\\begin{array}{lll}\n",
        "\t\t\t\\hline\n",
        "\t\t\tMessunsicherheit & Gerundet\\ auf\\ zwei\\ signifikante\\ Stellen \\\\\n",
        "\t\t\t\\hline\n",
        "\t\t\t5,36g & 5,4g \\\\\n",
        "\t\t\t958mm & 960mm \\\\\n",
        "\t\t\t0,077l & 0,077l \\\\\n",
        "\t\t\t0,73954 * 10^{-19} C & 0,74*10^{-19}  C \\\\\n",
        "\t\t\t0,19792458 * 10^8 \\frac{m}{s} & 0,20 * 10^8 \\frac{m}{s} \\\\\n",
        "\t\t\t3m^2 & 3,0m^2 \\\\\n",
        "\t\t\t0,2 \\frac{m}{s^2} & 0,20 \\frac{m}{s^2} \\\\\n",
        "\t\t\t\\hline\n",
        "\t\t\\end{array}\n",
        "$$"
      ],
      "metadata": {
        "id": "Oh33zAHx3s3C"
      }
    },
    {
      "cell_type": "markdown",
      "source": [
        "# Aufgabe 2\n",
        "Korrigieren Sie die folgenden (falschen) Angaben bezüglich der Messunsicherheiten"
      ],
      "metadata": {
        "id": "hHFA-CkzWtcX"
      }
    },
    {
      "cell_type": "markdown",
      "source": [
        "$$\n",
        "\t\t\\begin{array}{lll}\n",
        "\t\t\t\\hline\n",
        "\t\t\tfalsche\\ Angaben & richtige\\ Angaben \\\\\n",
        "\t\t\t\\hline\n",
        "\t\t\t(358,2 \\pm 52)𝑚𝑚 & (358 \\pm 52)𝑚𝑚 \\\\\n",
        "\t\t\t(0,087 \\pm 0,23)𝑙 & (0,09 \\pm 0,23)𝑙 \\\\\n",
        "\t\t\t(1,602176 \\pm 0,353) ∗ 10−19𝐶 & (1,60 \\pm 0,35) ∗ 10−19𝐶 \\\\\n",
        "\t\t\t(2,99792458 \\pm 0,00050)∗ 10^8\\frac{m}{s} & (299792 \\pm 50)∗ 10^3\\frac{m}{s} \\\\\n",
        "\t\t\t(67,5 \\pm 0,34)𝑚𝑙 & (67,50 \\pm 0,34)𝑚𝑙 \\\\\n",
        "\t\t\t(9,9917 \\pm 0,4552)\\frac{m}{s^2} & (9,99 \\pm 0,46)\\frac{m}{s^2} \\\\\n",
        "\t\t\t(0,008 \\pm 0,12)m & (0,01 \\pm 0,12)m \\\\\n",
        "\t\t\t(730,891 \\pm 24,33)𝑚𝑏𝑎𝑟 & (730,89 \\pm 24,33)𝑚𝑏𝑎𝑟 \\\\\n",
        "\t\t\t\\hline\n",
        "\t\t\\end{array}\n",
        "$$"
      ],
      "metadata": {
        "id": "WZZzIDG3Xi1X"
      }
    },
    {
      "cell_type": "markdown",
      "source": [
        "# Aufgabe 3\n",
        "\n",
        "Zur Berechnung der Statistischen Kennwerte werden die Messwerte in einem Dataframe zusammengefasst:"
      ],
      "metadata": {
        "id": "hnQKta_r-gPU"
      }
    },
    {
      "cell_type": "code",
      "source": [
        "import pandas as pd\n",
        "import numpy as np\n",
        "import statistics as stat\n",
        "import math\n",
        "\n",
        "# Eingabe der Messwerte für Gruppe 1 und 2\n",
        "gruppe1_d_mm = pd.Series([436.6, 426.1, 438.3, 426.1, 434.0, 438.8], \n",
        "                         index=range(1,7))\n",
        "gruppe2_d_mm = pd.Series([422.9, 430.4, 425.6, 419.7, 427.2, 417.8], \n",
        "                         index=range(1,7))\n",
        "\n",
        "# Zusammenfassen der Ergebnisse in einen Dataframe\n",
        "messwerte = pd.concat([gruppe1_d_mm, gruppe2_d_mm], axis=1)\n",
        "# Spaltenbenennung des messwerte-Dataframes\n",
        "messwerte.columns = ['Gruppe1_d_mm', 'Gruppe2_d_mm']"
      ],
      "metadata": {
        "id": "EG7VWKYN-liW"
      },
      "execution_count": null,
      "outputs": []
    },
    {
      "cell_type": "markdown",
      "source": [
        "Im Folgenden werden statistischen Maßzahlen für die erhobenen Messwerte berechnet. Dabei handelt es sich um:\n",
        "\n",
        "* Mittelwert $\\bar{x}=\\frac{1}{n}\\sum\\limits_{i=0}^{n}x_i$,\n",
        "* Empirische Standardabweichung $\\sigma = \\sqrt{\\frac{1}{n-1}\\sum\\limits_{i}^{n}(x_i-\\bar{x})^2)}$,\n",
        "* Standardabweichung des Mittelwertes $\\sigma_{\\bar{x}}=\\frac{\\sigma}{\\sqrt{n}}$,\n",
        "* Student t-Wert für p = 66.8% und n = 6\n",
        "* Vertrauensabweichung $\\varepsilon_{\\bar{x}}=\\frac{t*\\sigma_x}{\\sqrt{n}}$.\n",
        "\n",
        "Mit:\n",
        "* $n$: Anzahl (Mess)Werte, \n",
        "* $x_i$: $i$-ter (Mess)Wert."
      ],
      "metadata": {
        "id": "qJUmw3PfAdLL"
      }
    },
    {
      "cell_type": "code",
      "source": [
        "# Namen der statistischen Maßzahlen\n",
        "maßzahl = ['Mittelwert', 'Stabw.', 'Stabw.Mittelwert', \n",
        "           'Student', 'Vertrauensabw.']\n",
        "# Berechnung Mittelwert mw\n",
        "mw = messwerte.apply(stat.mean)\n",
        "# Berechnung Standardabweichung sd\n",
        "sd = messwerte.apply(stat.stdev)\n",
        "# Berechnung Standardabweichung des Mittelwertes\n",
        "def stabwdmw (v): return(stat.stdev(v)/math.sqrt(len(v)))\n",
        "sdm = messwerte.apply(stabwdmw)\n",
        "# Einfügen des t-Faktors (p = 66.8%, n = 6)\n",
        "t = 1.09\n",
        "tfactor = np.array([t, t])\n",
        "# Berechnung Vertrauensabweichung\n",
        "vab = t*sdm/math.sqrt(messwerte.shape[0])"
      ],
      "metadata": {
        "id": "neW0fow6MNom"
      },
      "execution_count": 4,
      "outputs": []
    },
    {
      "cell_type": "code",
      "source": [
        "# Zusammenfassen der statistischen Maßzahlen in einen Dataframe\n",
        "wertematrix = np.vstack((mw, sd, sdm, tfactor, vab))\n",
        "stat_maßzahlen = pd.DataFrame(wertematrix, \n",
        "                              columns=messwerte.columns,\n",
        "                              index=maßzahl)\n",
        "# Ausgabe\n",
        "stat_maßzahlen.round(5)\n",
        "\n"
      ],
      "metadata": {
        "id": "XhuihGYRB8DT",
        "outputId": "c1e18093-f699-495c-8498-43bd9392264a",
        "colab": {
          "base_uri": "https://localhost:8080/",
          "height": 206
        }
      },
      "execution_count": 6,
      "outputs": [
        {
          "output_type": "execute_result",
          "data": {
            "text/plain": [
              "                  Gruppe1_d_mm  Gruppe2_d_mm\n",
              "Mittelwert           433.31667     423.93333\n",
              "Stabw.                 5.83624       4.73019\n",
              "Stabw.Mittelwert       2.38263       1.93109\n",
              "Student                1.09000       1.09000\n",
              "Vertrauensabw.         1.06025       0.85932"
            ],
            "text/html": [
              "\n",
              "  <div id=\"df-aa65023b-821e-4992-a826-f7f95eee4317\">\n",
              "    <div class=\"colab-df-container\">\n",
              "      <div>\n",
              "<style scoped>\n",
              "    .dataframe tbody tr th:only-of-type {\n",
              "        vertical-align: middle;\n",
              "    }\n",
              "\n",
              "    .dataframe tbody tr th {\n",
              "        vertical-align: top;\n",
              "    }\n",
              "\n",
              "    .dataframe thead th {\n",
              "        text-align: right;\n",
              "    }\n",
              "</style>\n",
              "<table border=\"1\" class=\"dataframe\">\n",
              "  <thead>\n",
              "    <tr style=\"text-align: right;\">\n",
              "      <th></th>\n",
              "      <th>Gruppe1_d_mm</th>\n",
              "      <th>Gruppe2_d_mm</th>\n",
              "    </tr>\n",
              "  </thead>\n",
              "  <tbody>\n",
              "    <tr>\n",
              "      <th>Mittelwert</th>\n",
              "      <td>433.31667</td>\n",
              "      <td>423.93333</td>\n",
              "    </tr>\n",
              "    <tr>\n",
              "      <th>Stabw.</th>\n",
              "      <td>5.83624</td>\n",
              "      <td>4.73019</td>\n",
              "    </tr>\n",
              "    <tr>\n",
              "      <th>Stabw.Mittelwert</th>\n",
              "      <td>2.38263</td>\n",
              "      <td>1.93109</td>\n",
              "    </tr>\n",
              "    <tr>\n",
              "      <th>Student</th>\n",
              "      <td>1.09000</td>\n",
              "      <td>1.09000</td>\n",
              "    </tr>\n",
              "    <tr>\n",
              "      <th>Vertrauensabw.</th>\n",
              "      <td>1.06025</td>\n",
              "      <td>0.85932</td>\n",
              "    </tr>\n",
              "  </tbody>\n",
              "</table>\n",
              "</div>\n",
              "      <button class=\"colab-df-convert\" onclick=\"convertToInteractive('df-aa65023b-821e-4992-a826-f7f95eee4317')\"\n",
              "              title=\"Convert this dataframe to an interactive table.\"\n",
              "              style=\"display:none;\">\n",
              "        \n",
              "  <svg xmlns=\"http://www.w3.org/2000/svg\" height=\"24px\"viewBox=\"0 0 24 24\"\n",
              "       width=\"24px\">\n",
              "    <path d=\"M0 0h24v24H0V0z\" fill=\"none\"/>\n",
              "    <path d=\"M18.56 5.44l.94 2.06.94-2.06 2.06-.94-2.06-.94-.94-2.06-.94 2.06-2.06.94zm-11 1L8.5 8.5l.94-2.06 2.06-.94-2.06-.94L8.5 2.5l-.94 2.06-2.06.94zm10 10l.94 2.06.94-2.06 2.06-.94-2.06-.94-.94-2.06-.94 2.06-2.06.94z\"/><path d=\"M17.41 7.96l-1.37-1.37c-.4-.4-.92-.59-1.43-.59-.52 0-1.04.2-1.43.59L10.3 9.45l-7.72 7.72c-.78.78-.78 2.05 0 2.83L4 21.41c.39.39.9.59 1.41.59.51 0 1.02-.2 1.41-.59l7.78-7.78 2.81-2.81c.8-.78.8-2.07 0-2.86zM5.41 20L4 18.59l7.72-7.72 1.47 1.35L5.41 20z\"/>\n",
              "  </svg>\n",
              "      </button>\n",
              "      \n",
              "  <style>\n",
              "    .colab-df-container {\n",
              "      display:flex;\n",
              "      flex-wrap:wrap;\n",
              "      gap: 12px;\n",
              "    }\n",
              "\n",
              "    .colab-df-convert {\n",
              "      background-color: #E8F0FE;\n",
              "      border: none;\n",
              "      border-radius: 50%;\n",
              "      cursor: pointer;\n",
              "      display: none;\n",
              "      fill: #1967D2;\n",
              "      height: 32px;\n",
              "      padding: 0 0 0 0;\n",
              "      width: 32px;\n",
              "    }\n",
              "\n",
              "    .colab-df-convert:hover {\n",
              "      background-color: #E2EBFA;\n",
              "      box-shadow: 0px 1px 2px rgba(60, 64, 67, 0.3), 0px 1px 3px 1px rgba(60, 64, 67, 0.15);\n",
              "      fill: #174EA6;\n",
              "    }\n",
              "\n",
              "    [theme=dark] .colab-df-convert {\n",
              "      background-color: #3B4455;\n",
              "      fill: #D2E3FC;\n",
              "    }\n",
              "\n",
              "    [theme=dark] .colab-df-convert:hover {\n",
              "      background-color: #434B5C;\n",
              "      box-shadow: 0px 1px 3px 1px rgba(0, 0, 0, 0.15);\n",
              "      filter: drop-shadow(0px 1px 2px rgba(0, 0, 0, 0.3));\n",
              "      fill: #FFFFFF;\n",
              "    }\n",
              "  </style>\n",
              "\n",
              "      <script>\n",
              "        const buttonEl =\n",
              "          document.querySelector('#df-aa65023b-821e-4992-a826-f7f95eee4317 button.colab-df-convert');\n",
              "        buttonEl.style.display =\n",
              "          google.colab.kernel.accessAllowed ? 'block' : 'none';\n",
              "\n",
              "        async function convertToInteractive(key) {\n",
              "          const element = document.querySelector('#df-aa65023b-821e-4992-a826-f7f95eee4317');\n",
              "          const dataTable =\n",
              "            await google.colab.kernel.invokeFunction('convertToInteractive',\n",
              "                                                     [key], {});\n",
              "          if (!dataTable) return;\n",
              "\n",
              "          const docLinkHtml = 'Like what you see? Visit the ' +\n",
              "            '<a target=\"_blank\" href=https://colab.research.google.com/notebooks/data_table.ipynb>data table notebook</a>'\n",
              "            + ' to learn more about interactive tables.';\n",
              "          element.innerHTML = '';\n",
              "          dataTable['output_type'] = 'display_data';\n",
              "          await google.colab.output.renderOutput(dataTable, element);\n",
              "          const docLink = document.createElement('div');\n",
              "          docLink.innerHTML = docLinkHtml;\n",
              "          element.appendChild(docLink);\n",
              "        }\n",
              "      </script>\n",
              "    </div>\n",
              "  </div>\n",
              "  "
            ]
          },
          "metadata": {},
          "execution_count": 6
        }
      ]
    }
  ]
}