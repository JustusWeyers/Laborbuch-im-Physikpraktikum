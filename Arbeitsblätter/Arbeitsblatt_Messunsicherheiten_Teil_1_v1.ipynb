{
  "nbformat": 4,
  "nbformat_minor": 0,
  "metadata": {
    "colab": {
      "provenance": [],
      "include_colab_link": true
    },
    "kernelspec": {
      "name": "python3",
      "display_name": "Python 3"
    },
    "language_info": {
      "name": "python"
    }
  },
  "cells": [
    {
      "cell_type": "markdown",
      "metadata": {
        "id": "view-in-github",
        "colab_type": "text"
      },
      "source": [
        "<a href=\"https://colab.research.google.com/github/JustusWeyers/Laborbuch-im-Physikpraktikum/blob/main/Arbeitsbl%C3%A4tter/Arbeitsblatt_Messunsicherheiten_Teil_1_v1.ipynb\" target=\"_parent\"><img src=\"https://colab.research.google.com/assets/colab-badge.svg\" alt=\"Open In Colab\"/></a>"
      ]
    },
    {
      "cell_type": "markdown",
      "source": [
        "# Aufgabe 1\n",
        "Runden Sie folgende Messunsicherheiten auf zwei signifikante Stellen"
      ],
      "metadata": {
        "id": "ckhstoumpoyc"
      }
    },
    {
      "cell_type": "markdown",
      "source": [
        "$$\n",
        "\t\t\\begin{array}{lll}\n",
        "\t\t\t\\hline\n",
        "\t\t\tMessunsicherheit & Gerundet\\ auf\\ zwei\\ signifikante\\ Stellen \\\\\n",
        "\t\t\t\\hline\n",
        "\t\t\t5,36g & 5,4g \\\\\n",
        "\t\t\t958mm & 960mm \\\\\n",
        "\t\t\t0,077l & 0,077l \\\\\n",
        "\t\t\t0,73954 * 10^{-19} C & 0,74*10^{-19}  C \\\\\n",
        "\t\t\t0,19792458 * 10^8 \\frac{m}{s} & 0,20 * 10^8 \\frac{m}{s} \\\\\n",
        "\t\t\t3m^2 & 3,0m^2 \\\\\n",
        "\t\t\t0,2 \\frac{m}{s^2} & 0,20 \\frac{m}{s^2} \\\\\n",
        "\t\t\t\\hline\n",
        "\t\t\\end{array}\n",
        "$$"
      ],
      "metadata": {
        "id": "Oh33zAHx3s3C"
      }
    },
    {
      "cell_type": "markdown",
      "source": [
        "# Aufgabe 2\n",
        "Korrigieren Sie die folgenden (falschen) Angaben bezüglich der Messunsicherheiten"
      ],
      "metadata": {
        "id": "hHFA-CkzWtcX"
      }
    },
    {
      "cell_type": "markdown",
      "source": [
        "$$\n",
        "\t\t\\begin{array}{lll}\n",
        "\t\t\t\\hline\n",
        "\t\t\tfalsche\\ Angaben & richtige\\ Angaben \\\\\n",
        "\t\t\t\\hline\n",
        "\t\t\t(358,2 \\pm 52)𝑚𝑚 & (358 \\pm 52)𝑚𝑚 \\\\\n",
        "\t\t\t(0,087 \\pm 0,23)𝑙 & (0,09 \\pm 0,23)𝑙 \\\\\n",
        "\t\t\t(1,602176 \\pm 0,353) ∗ 10−19𝐶 & (1,60 \\pm 0,35) ∗ 10−19𝐶 \\\\\n",
        "\t\t\t(2,99792458 \\pm 0,00050)∗ 10^8\\frac{m}{s} & (2,99792 \\pm 0,00050)∗ 10^8\\frac{m}{s} \\\\\n",
        "\t\t\t(67,5 \\pm 0,34)𝑚𝑙 & (67,50 \\pm 0,34)𝑚𝑙 \\\\\n",
        "\t\t\t(9,9917 \\pm 0,4552)\\frac{m}{s^2} & (10,00 \\pm 0,46)\\frac{m}{s^2} \\\\\n",
        "\t\t\t(730,891 \\pm 24,33)𝑚𝑏𝑎𝑟 & (730,89 \\pm 24,33)𝑚𝑏𝑎𝑟 \\\\\n",
        "\t\t\t\\hline\n",
        "\t\t\\end{array}\n",
        "$$"
      ],
      "metadata": {
        "id": "WZZzIDG3Xi1X"
      }
    }
  ]
}