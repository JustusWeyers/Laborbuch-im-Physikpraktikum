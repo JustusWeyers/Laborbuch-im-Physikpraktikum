{
  "nbformat": 4,
  "nbformat_minor": 0,
  "metadata": {
    "colab": {
      "provenance": [],
      "include_colab_link": true
    },
    "kernelspec": {
      "name": "python3",
      "display_name": "Python 3"
    },
    "language_info": {
      "name": "python"
    }
  },
  "cells": [
    {
      "cell_type": "markdown",
      "metadata": {
        "id": "view-in-github",
        "colab_type": "text"
      },
      "source": [
        "<a href=\"https://colab.research.google.com/github/JustusWeyers/Laborbuch-im-Physikpraktikum/blob/main/Arbeitsbl%C3%A4tter/Arbeitsblatt_Messunsicherheiten_Teil_1_v1.ipynb\" target=\"_parent\"><img src=\"https://colab.research.google.com/assets/colab-badge.svg\" alt=\"Open In Colab\"/></a>"
      ]
    },
    {
      "cell_type": "markdown",
      "source": [
        "1. Runden Sie folgende Messunsicherheiten auf zwei signifikante Stellen"
      ],
      "metadata": {
        "id": "ckhstoumpoyc"
      }
    },
    {
      "cell_type": "code",
      "source": [
        "rows = [[\"Messunsicherheit\", \"Gerundet\\ auf\\ zwei\\ signifikante\\ Stellen\"],\n",
        "        [\"5,36g\", \"5,4g\"],\n",
        "        [\"958mm\", \"960mm\"],\n",
        "        [\"0,077l\", \"0,077l\"],\n",
        "        [\"0,73954 * 10^{-19} C\", \"0,74*10^{-19}  C\"],\n",
        "        [\"0,19792458 * 10^8 m/s\", \"0,20 * 10^8 m/s\"],\n",
        "        [\"3m^2\", \"3,0m^2\"],\n",
        "        [\"0,2 m/s^2\", \"0,20 m/s^2\"]]"
      ],
      "metadata": {
        "id": "sfGZ1OSMp-5g"
      },
      "execution_count": 80,
      "outputs": []
    },
    {
      "cell_type": "code",
      "source": [
        "# pip install texttable\n",
        "from texttable import Texttable\n",
        "table = Texttable()\n",
        "table.set_cols_align([\"l\", \"l\"])\n",
        "table.set_cols_valign([\"l\", \"l\"])\n",
        "table.add_rows(rows)\n",
        "print(latextable.draw_latex(table))"
      ],
      "metadata": {
        "id": "vz7Bn8Ad2zQv"
      },
      "execution_count": null,
      "outputs": []
    },
    {
      "cell_type": "markdown",
      "source": [
        "$$\n",
        "\t\t\\begin{array}{lll}\n",
        "\t\t\t\\hline\n",
        "\t\t\tMessunsicherheit & Gerundet\\ auf\\ zwei\\ signifikante\\ Stellen \\\\\n",
        "\t\t\t\\hline\n",
        "\t\t\t5,36g & 5,4g \\\\\n",
        "\t\t\t958mm & 960mm \\\\\n",
        "\t\t\t0,077l & 0,077l \\\\\n",
        "\t\t\t0,73954 * 10^{-19} C & 0,74*10^{-19}  C \\\\\n",
        "\t\t\t0,19792458 * 10^8 m/s & 0,20 * 10^8 m/s \\\\\n",
        "\t\t\t3m^2 & 3,0m^2 \\\\\n",
        "\t\t\t0,2 m/s^2 & 0,20 m/s^2 \\\\\n",
        "\t\t\t\\hline\n",
        "\t\t\\end{array}\n",
        "$$"
      ],
      "metadata": {
        "id": "Oh33zAHx3s3C"
      }
    }
  ]
}