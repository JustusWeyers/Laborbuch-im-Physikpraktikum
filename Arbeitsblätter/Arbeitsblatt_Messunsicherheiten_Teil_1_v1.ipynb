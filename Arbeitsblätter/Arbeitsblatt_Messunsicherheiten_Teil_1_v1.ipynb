{
  "nbformat": 4,
  "nbformat_minor": 0,
  "metadata": {
    "colab": {
      "provenance": [],
      "include_colab_link": true
    },
    "kernelspec": {
      "name": "python3",
      "display_name": "Python 3"
    },
    "language_info": {
      "name": "python"
    }
  },
  "cells": [
    {
      "cell_type": "markdown",
      "metadata": {
        "id": "view-in-github",
        "colab_type": "text"
      },
      "source": [
        "<a href=\"https://colab.research.google.com/github/JustusWeyers/Laborbuch-im-Physikpraktikum/blob/main/Arbeitsbl%C3%A4tter/Arbeitsblatt_Messunsicherheiten_Teil_1_v1.ipynb\" target=\"_parent\"><img src=\"https://colab.research.google.com/assets/colab-badge.svg\" alt=\"Open In Colab\"/></a>"
      ]
    },
    {
      "cell_type": "markdown",
      "source": [
        "# Aufgabe 1\n",
        "Runden Sie folgende Messunsicherheiten auf zwei signifikante Stellen"
      ],
      "metadata": {
        "id": "ckhstoumpoyc"
      }
    },
    {
      "cell_type": "markdown",
      "source": [
        "$$\n",
        "\t\t\\begin{array}{lll}\n",
        "\t\t\t\\hline\n",
        "\t\t\tMessunsicherheit & Gerundet\\ auf\\ zwei\\ signifikante\\ Stellen \\\\\n",
        "\t\t\t\\hline\n",
        "\t\t\t5,36g & 5,4g \\\\\n",
        "\t\t\t958mm & 960mm \\\\\n",
        "\t\t\t0,077l & 0,077l \\\\\n",
        "\t\t\t0,73954 * 10^{-19} C & 0,74*10^{-19}  C \\\\\n",
        "\t\t\t0,19792458 * 10^8 \\frac{m}{s} & 0,20 * 10^8 \\frac{m}{s} \\\\\n",
        "\t\t\t3m^2 & 3,0m^2 \\\\\n",
        "\t\t\t0,2 \\frac{m}{s^2} & 0,20 \\frac{m}{s^2} \\\\\n",
        "\t\t\t\\hline\n",
        "\t\t\\end{array}\n",
        "$$"
      ],
      "metadata": {
        "id": "Oh33zAHx3s3C"
      }
    },
    {
      "cell_type": "markdown",
      "source": [
        "# Aufgabe 2\n",
        "Korrigieren Sie die folgenden (falschen) Angaben bezüglich der Messunsicherheiten"
      ],
      "metadata": {
        "id": "hHFA-CkzWtcX"
      }
    },
    {
      "cell_type": "markdown",
      "source": [
        "$$\n",
        "\t\t\\begin{array}{lll}\n",
        "\t\t\t\\hline\n",
        "\t\t\tfalsche\\ Angaben & richtige\\ Angaben \\\\\n",
        "\t\t\t\\hline\n",
        "\t\t\t(358,2 \\pm 52)𝑚𝑚 & (358 \\pm 52)𝑚𝑚 \\\\\n",
        "\t\t\t(0,087 \\pm 0,23)𝑙 & (0,09 \\pm 0,23)𝑙 \\\\\n",
        "\t\t\t(1,602176 \\pm 0,353) ∗ 10−19𝐶 & (1,60 \\pm 0,35) ∗ 10−19𝐶 \\\\\n",
        "\t\t\t(2,99792458 \\pm 0,00050)∗ 10^8\\frac{m}{s} & (2,99792 \\pm 0,00050)∗ 10^8\\frac{m}{s} \\\\\n",
        "\t\t\t(67,5 \\pm 0,34)𝑚𝑙 & (67,50 \\pm 0,34)𝑚𝑙 \\\\\n",
        "\t\t\t(9,9917 \\pm 0,4552)\\frac{m}{s^2} & (10,00 \\pm 0,46)\\frac{m}{s^2} \\\\\n",
        "\t\t\t(730,891 \\pm 24,33)𝑚𝑏𝑎𝑟 & (730,89 \\pm 24,33)𝑚𝑏𝑎𝑟 \\\\\n",
        "\t\t\t\\hline\n",
        "\t\t\\end{array}\n",
        "$$"
      ],
      "metadata": {
        "id": "WZZzIDG3Xi1X"
      }
    },
    {
      "cell_type": "markdown",
      "source": [
        "# Aufgabe 3\n",
        "\n",
        "Zur Berechnung der Statistischen Kennwerte werden die Messwerte in einem Dataframe zusammengefasst:"
      ],
      "metadata": {
        "id": "hnQKta_r-gPU"
      }
    },
    {
      "cell_type": "code",
      "source": [
        "import pandas as pd\n",
        "import numpy as np\n",
        "import statistics as stat\n",
        "import math\n",
        "\n",
        "# Eingabe der Messwerte für Gruppe 1 und 2\n",
        "gruppe1_d_mm = pd.Series([436.6, 426.1, 438.3, 426.1, 434.0, 438.8], \n",
        "                         index=range(1,7))\n",
        "gruppe2_d_mm = pd.Series([422.9, 430.4, 425.6, 419.7, 427.2, 417.8], \n",
        "                         index=range(1,7))\n",
        "\n",
        "# Zusammenfassen der Ergebnisse in einen Dataframe\n",
        "messwerte = pd.concat([gruppe1_d_mm, gruppe2_d_mm], axis=1)\n",
        "# Spaltenbenennung des messwerte-Dataframes\n",
        "messwerte.columns = ['Gruppe1_d_mm', 'Gruppe2_d_mm']\n",
        "\n",
        "# Student-Faktor t (p = 66.8, n = 6)\n",
        "t = 1.09"
      ],
      "metadata": {
        "id": "EG7VWKYN-liW"
      },
      "execution_count": 49,
      "outputs": []
    },
    {
      "cell_type": "code",
      "source": [
        "maßzahl = ['Mittelwert', 'Stabw.', 'Stabw.Mittelwert', 'Student', 'Vertrauensabw.']\n"
      ],
      "metadata": {
        "id": "neW0fow6MNom"
      },
      "execution_count": null,
      "outputs": []
    },
    {
      "cell_type": "code",
      "source": [
        "from scipy import stats\n",
        "#Studnt, n=999, p<0.05, 2-tail\n",
        "#equivalent to Excel TINV(0.05,999)\n",
        "print(stats.t.ppf(0.668, 6))"
      ],
      "metadata": {
        "id": "aX4-kp7vWYpg",
        "outputId": "d75e6845-b04f-4b71-8c2f-47f0225ade47",
        "colab": {
          "base_uri": "https://localhost:8080/"
        }
      },
      "execution_count": 80,
      "outputs": [
        {
          "output_type": "stream",
          "name": "stdout",
          "text": [
            "0.4566315517487697\n"
          ]
        }
      ]
    },
    {
      "cell_type": "code",
      "source": [
        "mw = messwerte.apply(stat.mean, axis=0)\n",
        "sd = messwerte.apply(stat.stdev, axis=0)\n",
        "def stabwdmw (v): return(stat.stdev(v)/math.sqrt(len(v)))\n",
        "sdm = messwerte.apply(stabwdmw, axis=0)\n",
        "np.vstack((mw, sd, sdm))"
      ],
      "metadata": {
        "colab": {
          "base_uri": "https://localhost:8080/"
        },
        "id": "-9cooi5hNmyT",
        "outputId": "5e9e4fe6-7276-46d6-a4ed-4588761aa619"
      },
      "execution_count": 64,
      "outputs": [
        {
          "output_type": "execute_result",
          "data": {
            "text/plain": [
              "array([[433.31666667, 423.93333333],\n",
              "       [  5.83623737,   4.73018675],\n",
              "       [  2.38263393,   1.93109065]])"
            ]
          },
          "metadata": {},
          "execution_count": 64
        }
      ]
    },
    {
      "cell_type": "markdown",
      "source": [
        "Berechnug der statistischen Kenngrößen:\n",
        "\n",
        "* Mittelwert $\\bar{x}=\\frac{1}{n}\\sum\\limits_{i=0}^{n}x_i$\n",
        "* Berechnung Empirische Standardabweichung $\\sigma = \\sqrt{\\frac{1}{n-1}\\sum\\limits_{i}^{n}(x_i-\\bar{x})^2)}$\n",
        "* Berechnung Standardabweichung des Mittelwertes $\\bar{s}=\\frac{\\sigma}{\\sqrt{n}}$\n"
      ],
      "metadata": {
        "id": "qJUmw3PfAdLL"
      }
    }
  ]
}