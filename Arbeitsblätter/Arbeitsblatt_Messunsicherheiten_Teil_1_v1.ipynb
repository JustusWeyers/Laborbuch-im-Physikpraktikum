{
  "nbformat": 4,
  "nbformat_minor": 0,
  "metadata": {
    "colab": {
      "provenance": [],
      "include_colab_link": true
    },
    "kernelspec": {
      "name": "python3",
      "display_name": "Python 3"
    },
    "language_info": {
      "name": "python"
    }
  },
  "cells": [
    {
      "cell_type": "markdown",
      "metadata": {
        "id": "view-in-github",
        "colab_type": "text"
      },
      "source": [
        "<a href=\"https://colab.research.google.com/github/JustusWeyers/Laborbuch-im-Physikpraktikum/blob/main/Arbeitsbl%C3%A4tter/Arbeitsblatt_Messunsicherheiten_Teil_1_v1.ipynb\" target=\"_parent\"><img src=\"https://colab.research.google.com/assets/colab-badge.svg\" alt=\"Open In Colab\"/></a>"
      ]
    },
    {
      "cell_type": "markdown",
      "source": [
        "1. Runden Sie folgende Messunsicherheiten auf zwei signifikante Stellen"
      ],
      "metadata": {
        "id": "ckhstoumpoyc"
      }
    },
    {
      "cell_type": "code",
      "source": [
        "rows = [[\"Messunsicherheit\", \"Gerundet auf 2 signifikante Stellen\"],\n",
        "        [\"5.36g\", \"5.4g\"],\n",
        "        [\"958mm\", \"960mm\"],\n",
        "        [\"0,077l\", \"0.077l\"],\n",
        "        [\"0,73954 * 10^-19 C\", \"0,74*10^-19  C\"],\n",
        "        [\"0,19792458 * 10^8 m/s\", \"0,20 * 10^8 m/s\"],\n",
        "        [\"3m^2\", \"3,0m^2\"],\n",
        "        [\"0,2 m/(s^2)\", \"0,20 m/(s^2)\"]]"
      ],
      "metadata": {
        "id": "sfGZ1OSMp-5g"
      },
      "execution_count": 65,
      "outputs": []
    },
    {
      "cell_type": "code",
      "source": [
        "# pip install texttable\n",
        "from texttable import Texttable"
      ],
      "metadata": {
        "id": "Hg6Q2m6q2o48"
      },
      "execution_count": 39,
      "outputs": []
    },
    {
      "cell_type": "code",
      "source": [],
      "metadata": {
        "id": "w3TebyEP5-IB",
        "outputId": "0501ffaf-caa5-4118-b8b4-493e088125be",
        "colab": {
          "base_uri": "https://localhost:8080/"
        }
      },
      "execution_count": 68,
      "outputs": [
        {
          "output_type": "execute_result",
          "data": {
            "text/plain": [
              "[['Messunsicherheit', 'Gerundet auf 2 signifikante Stellen'],\n",
              " ['Messunsicherheit', 'Gerundet auf 2 signifikante Stellen'],\n",
              " 'new',\n",
              " ['5.36g', '5.4g'],\n",
              " ['958mm', '960mm'],\n",
              " ['0,077l', '0.077l'],\n",
              " ['0,73954 * 10^-19 C', '0,74*10^-19  C'],\n",
              " ['0,19792458 * 10^8 m/s', '0,20 * 10^8 m/s'],\n",
              " ['3m^2', '3,0m^2'],\n",
              " ['0,2 m/(s^2)', '0,20 m/(s^2)']]"
            ]
          },
          "metadata": {},
          "execution_count": 68
        }
      ]
    },
    {
      "cell_type": "code",
      "source": [
        "table = Texttable()\n",
        "table.set_cols_align([\"l\", \"l\"])\n",
        "table.set_cols_valign([\"l\", \"l\"])\n",
        "table.add_rows()\n",
        "print(latextable.draw_latex(table))"
      ],
      "metadata": {
        "id": "vz7Bn8Ad2zQv",
        "outputId": "f9a4295e-c41b-44f9-8df4-73da68b94808",
        "colab": {
          "base_uri": "https://localhost:8080/",
          "height": 340
        }
      },
      "execution_count": 56,
      "outputs": [
        {
          "output_type": "error",
          "ename": "TypeError",
          "evalue": "ignored",
          "traceback": [
            "\u001b[0;31m---------------------------------------------------------------------------\u001b[0m",
            "\u001b[0;31mTypeError\u001b[0m                                 Traceback (most recent call last)",
            "\u001b[0;32m<ipython-input-56-4f9a4303af4e>\u001b[0m in \u001b[0;36m<module>\u001b[0;34m\u001b[0m\n\u001b[1;32m      2\u001b[0m \u001b[0mtable\u001b[0m\u001b[0;34m.\u001b[0m\u001b[0mset_cols_align\u001b[0m\u001b[0;34m(\u001b[0m\u001b[0;34m[\u001b[0m\u001b[0;34m\"l\"\u001b[0m\u001b[0;34m,\u001b[0m \u001b[0;34m\"l\"\u001b[0m\u001b[0;34m]\u001b[0m\u001b[0;34m)\u001b[0m\u001b[0;34m\u001b[0m\u001b[0;34m\u001b[0m\u001b[0m\n\u001b[1;32m      3\u001b[0m \u001b[0mtable\u001b[0m\u001b[0;34m.\u001b[0m\u001b[0mset_cols_valign\u001b[0m\u001b[0;34m(\u001b[0m\u001b[0;34m[\u001b[0m\u001b[0;34m\"l\"\u001b[0m\u001b[0;34m,\u001b[0m \u001b[0;34m\"l\"\u001b[0m\u001b[0;34m]\u001b[0m\u001b[0;34m)\u001b[0m\u001b[0;34m\u001b[0m\u001b[0;34m\u001b[0m\u001b[0m\n\u001b[0;32m----> 4\u001b[0;31m \u001b[0mtable\u001b[0m\u001b[0;34m.\u001b[0m\u001b[0madd_rows\u001b[0m\u001b[0;34m(\u001b[0m\u001b[0mTab1\u001b[0m\u001b[0;34m.\u001b[0m\u001b[0minsert\u001b[0m\u001b[0;34m(\u001b[0m\u001b[0;36m0\u001b[0m\u001b[0;34m,\u001b[0m \u001b[0mhead\u001b[0m\u001b[0;34m)\u001b[0m\u001b[0;34m)\u001b[0m\u001b[0;34m\u001b[0m\u001b[0;34m\u001b[0m\u001b[0m\n\u001b[0m\u001b[1;32m      5\u001b[0m \u001b[0mprint\u001b[0m\u001b[0;34m(\u001b[0m\u001b[0mlatextable\u001b[0m\u001b[0;34m.\u001b[0m\u001b[0mdraw_latex\u001b[0m\u001b[0;34m(\u001b[0m\u001b[0mtable\u001b[0m\u001b[0;34m)\u001b[0m\u001b[0;34m)\u001b[0m\u001b[0;34m\u001b[0m\u001b[0;34m\u001b[0m\u001b[0m\n",
            "\u001b[0;32m/usr/local/lib/python3.7/dist-packages/texttable.py\u001b[0m in \u001b[0;36madd_rows\u001b[0;34m(self, rows, header)\u001b[0m\n\u001b[1;32m    401\u001b[0m                 \u001b[0mself\u001b[0m\u001b[0;34m.\u001b[0m\u001b[0mheader\u001b[0m\u001b[0;34m(\u001b[0m\u001b[0mrows\u001b[0m\u001b[0;34m.\u001b[0m\u001b[0mnext\u001b[0m\u001b[0;34m(\u001b[0m\u001b[0;34m)\u001b[0m\u001b[0;34m)\u001b[0m\u001b[0;34m\u001b[0m\u001b[0;34m\u001b[0m\u001b[0m\n\u001b[1;32m    402\u001b[0m             \u001b[0;32melse\u001b[0m\u001b[0;34m:\u001b[0m\u001b[0;34m\u001b[0m\u001b[0;34m\u001b[0m\u001b[0m\n\u001b[0;32m--> 403\u001b[0;31m                 \u001b[0mself\u001b[0m\u001b[0;34m.\u001b[0m\u001b[0mheader\u001b[0m\u001b[0;34m(\u001b[0m\u001b[0mrows\u001b[0m\u001b[0;34m[\u001b[0m\u001b[0;36m0\u001b[0m\u001b[0;34m]\u001b[0m\u001b[0;34m)\u001b[0m\u001b[0;34m\u001b[0m\u001b[0;34m\u001b[0m\u001b[0m\n\u001b[0m\u001b[1;32m    404\u001b[0m                 \u001b[0mrows\u001b[0m \u001b[0;34m=\u001b[0m \u001b[0mrows\u001b[0m\u001b[0;34m[\u001b[0m\u001b[0;36m1\u001b[0m\u001b[0;34m:\u001b[0m\u001b[0;34m]\u001b[0m\u001b[0;34m\u001b[0m\u001b[0;34m\u001b[0m\u001b[0m\n\u001b[1;32m    405\u001b[0m         \u001b[0;32mfor\u001b[0m \u001b[0mrow\u001b[0m \u001b[0;32min\u001b[0m \u001b[0mrows\u001b[0m\u001b[0;34m:\u001b[0m\u001b[0;34m\u001b[0m\u001b[0;34m\u001b[0m\u001b[0m\n",
            "\u001b[0;31mTypeError\u001b[0m: 'NoneType' object is not subscriptable"
          ]
        }
      ]
    },
    {
      "cell_type": "markdown",
      "source": [
        "$$\n",
        "\t\t\\begin{array}{|lll|}\n",
        "\t\t\t\\hline\n",
        "\t\t\tName & Age & Nickname \\\\\n",
        "  \t\t\\hline\n",
        "      MrXavierHuon & 32 & Xav' \\\\\n",
        "\t  \tMrBaptisteClement & 1 & Baby \\\\\n",
        "\t\t  MmeLouiseBourgeau & 28 & LouLoue \\\\\n",
        "\t\t\t\\hline\n",
        "\t\t\\end{array}\n",
        "$$"
      ],
      "metadata": {
        "id": "Oh33zAHx3s3C"
      }
    }
  ]
}