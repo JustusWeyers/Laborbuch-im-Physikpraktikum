{
  "nbformat": 4,
  "nbformat_minor": 0,
  "metadata": {
    "colab": {
      "provenance": [],
      "include_colab_link": true
    },
    "kernelspec": {
      "name": "python3",
      "display_name": "Python 3"
    },
    "language_info": {
      "name": "python"
    }
  },
  "cells": [
    {
      "cell_type": "markdown",
      "metadata": {
        "id": "view-in-github",
        "colab_type": "text"
      },
      "source": [
        "<a href=\"https://colab.research.google.com/github/JustusWeyers/Laborbuch-im-Physikpraktikum/blob/main/Arbeitsbl%C3%A4tter/Arbeitsblatt_Messunsicherheiten_Teil_1.ipynb\" target=\"_parent\"><img src=\"https://colab.research.google.com/assets/colab-badge.svg\" alt=\"Open In Colab\"/></a>"
      ]
    },
    {
      "cell_type": "code",
      "execution_count": null,
      "metadata": {
        "id": "nAEK97GMsjwS"
      },
      "outputs": [],
      "source": [
        "Test"
      ]
    },
    {
      "cell_type": "markdown",
      "source": [
        "1. Runden Sie folgende Messunsicherheiten auf zwei signifikante Stellen"
      ],
      "metadata": {
        "id": "ckhstoumpoyc"
      }
    },
    {
      "cell_type": "code",
      "source": [
        "from tabulate import tabulate\n",
        "Tab1 = [\n",
        "    [\"5.36g\", \"5.4g\"],\n",
        "    [\"958mm\", \"960mm\"],\n",
        "    [\"0,077l\", \"0.077l\"],\n",
        "    [\"0,73954 * 10^-19 C\", \"0,74*10^-19  C\"],\n",
        "    [\"0,19792458 * 10^8 m/s\", \"0,20 * 10^8 m/s\"],\n",
        "    [\"3m^2\", \"3,0m^2\"],\n",
        "    [\"0,2 m/(s^2)\", \"0,20 m/(s^2)\"]\n",
        "]\n",
        "head = [\"Messunsicherheit\", \"Gerundet auf 2 signifikante Stellen\"]\n",
        "print(tabulate(Tab1, headers = head, tablefmt= \"grid\"))"
      ],
      "metadata": {
        "id": "sfGZ1OSMp-5g",
        "outputId": "18d20194-2b52-4386-cf35-b69c750cfefd",
        "colab": {
          "base_uri": "https://localhost:8080/"
        }
      },
      "execution_count": 2,
      "outputs": [
        {
          "output_type": "stream",
          "name": "stdout",
          "text": [
            "+-----------------------+---------------------------------------+\n",
            "| Messunsicherheit      | Gerundet auf 2 signifikante Stellen   |\n",
            "+=======================+=======================================+\n",
            "| 5.36g                 | 5.4g                                  |\n",
            "+-----------------------+---------------------------------------+\n",
            "| 958mm                 | 960mm                                 |\n",
            "+-----------------------+---------------------------------------+\n",
            "| 0,077l                | 0.077l                                |\n",
            "+-----------------------+---------------------------------------+\n",
            "| 0,73954 * 10^-19 C    | 0,74*10^-19  C                        |\n",
            "+-----------------------+---------------------------------------+\n",
            "| 0,19792458 * 10^8 m/s | 0,20 * 10^8 m/s                       |\n",
            "+-----------------------+---------------------------------------+\n",
            "| 3m^2                  | 3,0m^2                                |\n",
            "+-----------------------+---------------------------------------+\n",
            "| 0,2 m/(s^2)           | 0,20 m/(s^2)                          |\n",
            "+-----------------------+---------------------------------------+\n"
          ]
        }
      ]
    }
  ]
}