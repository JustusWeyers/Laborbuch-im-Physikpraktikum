{
  "nbformat": 4,
  "nbformat_minor": 0,
  "metadata": {
    "colab": {
      "provenance": [],
      "collapsed_sections": [],
      "authorship_tag": "ABX9TyNNVj0BKJfsHiIqXGyKyWnI",
      "include_colab_link": true
    },
    "kernelspec": {
      "name": "python3",
      "display_name": "Python 3"
    },
    "language_info": {
      "name": "python"
    }
  },
  "cells": [
    {
      "cell_type": "markdown",
      "metadata": {
        "id": "view-in-github",
        "colab_type": "text"
      },
      "source": [
        "<a href=\"https://colab.research.google.com/github/JustusWeyers/Laborbuch-im-Physikpraktikum/blob/main/Tools.ipynb\" target=\"_parent\"><img src=\"https://colab.research.google.com/assets/colab-badge.svg\" alt=\"Open In Colab\"/></a>"
      ]
    },
    {
      "cell_type": "markdown",
      "source": [
        "# Tabellen"
      ],
      "metadata": {
        "id": "IVxHiaUqIMFl"
      }
    },
    {
      "cell_type": "code",
      "source": [
        "# Erstellen von Tabellen\n",
        "#!pip install texttable\n",
        "# Umsetzen von texttable-Tabellen in Latex-Code\n",
        "#!pip install latextable"
      ],
      "metadata": {
        "id": "sUrdCEW3G5Ks"
      },
      "execution_count": null,
      "outputs": []
    },
    {
      "cell_type": "code",
      "execution_count": null,
      "metadata": {
        "id": "qSVbUQ49FuM7"
      },
      "outputs": [],
      "source": [
        "# Import notwendiger Module\n",
        "from texttable import Texttable\n",
        "import latextable\n",
        "\n",
        "# Generische Liste mit Tabellenzeilen\n",
        "rows = [['a','b'],[1,2],[1,2]]\n",
        "\n",
        "# Erstellen eines Tabellenobjektes\n",
        "table = Texttable()\n",
        "table.set_cols_align([\"l\", \"l\"])\n",
        "table.set_cols_valign([\"l\", \"l\"])\n",
        "table.add_rows(rows)\n",
        "\n",
        "# Ausgabe als Latex-Code\n",
        "print(latextable.draw_latex(table))"
      ]
    }
  ]
}