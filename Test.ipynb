{
  "nbformat": 4,
  "nbformat_minor": 0,
  "metadata": {
    "colab": {
      "provenance": [],
      "collapsed_sections": [],
      "authorship_tag": "ABX9TyNeakhKmSZyT43+fHj/SmZ6",
      "include_colab_link": true
    },
    "kernelspec": {
      "name": "python3",
      "display_name": "Python 3"
    },
    "language_info": {
      "name": "python"
    }
  },
  "cells": [
    {
      "cell_type": "markdown",
      "metadata": {
        "id": "view-in-github",
        "colab_type": "text"
      },
      "source": [
        "<a href=\"https://colab.research.google.com/github/JustusWeyers/Laborbuch-im-Physikpraktikum/blob/main/Test.ipynb\" target=\"_parent\"><img src=\"https://colab.research.google.com/assets/colab-badge.svg\" alt=\"Open In Colab\"/></a>"
      ]
    },
    {
      "cell_type": "markdown",
      "source": [
        "# **Test**\n",
        "\n"
      ],
      "metadata": {
        "id": "sKqBTUsss10b"
      }
    },
    {
      "cell_type": "markdown",
      "source": [
        "\n",
        "\n",
        "---\n",
        "\n",
        "\n",
        "## Anleitung\n"
      ],
      "metadata": {
        "id": "6Ga_pupMv8Yy"
      }
    },
    {
      "cell_type": "markdown",
      "source": [
        "Das hier ist ein sogenanntes Notebook. Hier kann Text und Code geschrieben werden, Daten können eingelesen und Grafiken erstellt werden. Das ganze ist vom Handling her ein wenig wie Word und R-Markdown, aber ganz anders.\n",
        "\n",
        "\n",
        "Notebooks bestehen aus *Zellen* die aneinandergereiht werden können. In diesen wird der Inhalt platziert. Dieser Text steht zum Beispiel in einer Zelle. Diese können durch Doppelklick geöffnet und bearbeitet werden. Neue Zellen können oben links mit + Code bzw. + Text eingefügt werden. Textzellen sind für Text, Codezellen für  Programme.\n",
        "\n"
      ],
      "metadata": {
        "id": "51MGREuctHvH"
      }
    },
    {
      "cell_type": "markdown",
      "source": [
        "### Textzellen\n",
        "Es ist möglich mit Textzellen einfach zu schreiben. Text lässt sich auch formatieren. Zum Beispiel lassen sich mit # Überschriften hinzufügen. Die Schriftart kann **verän**d*ert* werden.\n",
        "\n",
        "Die Formelschreibweise ist die $\\LaTeX$-Schreibweise. Das sind Kommandos, wie zum Beispiel:\n",
        "$$m = \\frac{y_2-y_1}{x_2-x_1}$$\n",
        "\n",
        "Es ist eine quasi unerschöpfliche Menge an Zeichen verfügbar, die entsprechenden Kommandos sind bei Wikipedia in der [$→$Liste mathematischer Symbole](https://de.wikipedia.org/wiki/Liste_mathematischer_Symbole) zu finden. Dort findet sich eine Spalte, in der der Latex-Befehl für jedes Zeichen aufgeführt ist."
      ],
      "metadata": {
        "id": "aDVJqNb-gxXY"
      }
    },
    {
      "cell_type": "markdown",
      "source": [
        "### Codezellen\n",
        "Neben den Textzellen existieren Code-Zellen. Diese können mit einem Klick auf den Play-Button (oben links in der Zelle) abgespielt werden. Das Ausführen dauert beim ersten Mal ein paar Sekunden, weil das Programm nicht auf dem Computer läuft, sondern bei Google. Grüße an der Stelle.\n",
        "\n",
        "Der Programmierspaß kann also beginnen, sobald eine Code-Zelle eingefügt wurde!\n",
        "\n",
        "In Python läuft viel über Module (das was in R *libraries* sind) und der erste Code ist fast immer, solch ein Modul einzubinden. Pandas ist ein Modul, speziell für die Arbeit mit Dataframes. Es wird zu Beginn eines Programms importiert:"
      ],
      "metadata": {
        "id": "lqkmAl2Au9Dl"
      }
    },
    {
      "cell_type": "code",
      "execution_count": null,
      "metadata": {
        "id": "vrAa_qnyaw9q"
      },
      "outputs": [],
      "source": [
        "import pandas as pd"
      ]
    },
    {
      "cell_type": "markdown",
      "source": [
        "Jetzt kann das Modul verwendet werden. Werden weitere Module benötigt, können diese auf die gleiche Weise importiert werden. \n",
        "\n",
        "\n",
        "Sollen Daten verarbeitet werden, müssen die ebenfalls hier eingebunden werden. Als Sammlung für die erstellten Messreihen steht ein öffentliches GitHub-Repository zur Verfügung [$→$ zu GitHub](https://github.com/JustusWeyers/Laborbuch-im-Physikpraktikum) . \n",
        "\n",
        "Das Einlesen der Dateien aus diesem Repository gestaltet sich erschreckend einfach:"
      ],
      "metadata": {
        "id": "66mnXhcMuG6M"
      }
    },
    {
      "cell_type": "code",
      "source": [
        "# Einlesen der Datei über GitHub-Addresse\n",
        "url = 'https://raw.githubusercontent.com/JustusWeyers\\\n",
        "/Laborbuch-im-Physikpraktikum/main/INPUT/Bodenkundedaten.txt'\n",
        "# Einlesen der url mit dem pandas-Modul (pd)\n",
        "BoKuBeispieldaten = pd.read_csv(url, sep=';')\n",
        "# Ausschnitt des Dataframes\n",
        "print(BoKuBeispieldaten.iloc[14:17, [0, 11, 12]])"
      ],
      "metadata": {
        "id": "-TUuBVVXfXYw",
        "colab": {
          "base_uri": "https://localhost:8080/"
        },
        "outputId": "1808ea53-1274-49fd-c05c-d863defcc683"
      },
      "execution_count": null,
      "outputs": [
        {
          "output_type": "stream",
          "name": "stdout",
          "text": [
            "   Probe  Ksat[cm/s]  Wassergehalt[%]\n",
            "14  G3P5       29.83             3.60\n",
            "15  G4P1       11.65             7.99\n",
            "16  G4P2        6.80             3.55\n"
          ]
        }
      ]
    },
    {
      "cell_type": "markdown",
      "source": [
        "In diesem Notebook lassen sich Dateien temporär speichern, neben der Möglichkeit das im Explorer (links) zu tun, besteht die Möglichkeit das aus dem Python-Code heraus abzuwickeln. Dazu muss unter Umständen erst ein passendes, neues Verzeichnis angelegt werden. Als Speicherort ist das content-Verzeichnis vorgesehen."
      ],
      "metadata": {
        "id": "QARcq3yGjwye"
      }
    },
    {
      "cell_type": "code",
      "source": [
        "# Neues Verzeichnis\n",
        "%mkdir /content/DATA\n",
        "# Speichern eines Dataframes als csv-Datei in das Notebook\n",
        "BoKuBeispieldaten.to_csv('/content/DATA/BokuBeispieldaten.csv', sep=';')"
      ],
      "metadata": {
        "id": "4K47pMUyj9iI",
        "outputId": "824b5744-bb10-45d3-a8fc-176083ccb01a",
        "colab": {
          "base_uri": "https://localhost:8080/"
        }
      },
      "execution_count": 30,
      "outputs": [
        {
          "output_type": "stream",
          "name": "stdout",
          "text": [
            "mkdir: cannot create directory ‘/content/DATA’: File exists\n"
          ]
        }
      ]
    },
    {
      "cell_type": "markdown",
      "source": [
        "### Tabelle\n",
        "$$\n",
        "\\begin{aligned}\n",
        "& \\text {Table 1.1. A Jupyter notebook table using LaTeX }\\\\\n",
        "&\\begin{array}{cccc}\n",
        "\\hline \\hline \\text { Case } & \\text { Method 1 } & \\text { Method 2 } & \\text { Method 3 } \\\\\n",
        "\\hline 1 & 50 & 837 & 970 \\\\\n",
        "2 & 47 & 877 & 230 \\\\\n",
        "3 & 31 & 25 & 415 \\\\\n",
        "4 & 35 & 144 & 23656 \\\\\n",
        "5 & 45 & 300 & 556 \\\\\n",
        "\\hline\n",
        "\\end{array}\n",
        "\\end{aligned}\n",
        "$$"
      ],
      "metadata": {
        "id": "93_vM23T-8xM"
      }
    },
    {
      "cell_type": "markdown",
      "source": [
        "### Export als PDF\n",
        "Mit dem Befehl:<br> jupyter nbconvert /path/to/mynotebook.ipynb --to latex </br> kann ein lokal gespeichertes IPython-Notebook in ein bearbeitbares tex-Dokument konvertiert werden."
      ],
      "metadata": {
        "id": "nX98I_L_yRvz"
      }
    },
    {
      "cell_type": "markdown",
      "source": [
        "### Speichern von Änderungen\n",
        "\n",
        "Das Speichern von Änderungen geschieht über: Datei $→$ Kopie in GitHub speichern $\\rightarrow$ *OK*.\n",
        "\n",
        "Dazu ist es erforderlich, dass du mit deinem GitHub-Account angemeldet bist. Über diesen Account hast du Schreibrechte für das Repository erhalten."
      ],
      "metadata": {
        "id": "AhDZf271Ba12"
      }
    },
    {
      "cell_type": "markdown",
      "source": [
        "\n",
        "\n",
        "---\n",
        "\n",
        "## Anwendungsbeispiele"
      ],
      "metadata": {
        "id": "pNfxoTicGOVD"
      }
    },
    {
      "cell_type": "markdown",
      "source": [
        "\n",
        "Im Folgenden ein paar Rechenbeispiele. Es werden zunächst wieder Module importiert: \n",
        "*  math ist das Python-Mathemodul,\n",
        "*  numpy ist für das Rechnen mit Matrizen,\n",
        "*  statistics ist ein Modul für statistische Funktionen.\n",
        "\n",
        "Diese werden aus Bequemlichkeit mit dem Befehl 'as' mit Kürzeln importiert. Aus dem Paket sympy werden zudem alle Funktionen direkt importiert, damit können Ableitungen durchgeführt werden.\n",
        "\n",
        "Quelle: [$\\rightarrow$ HU Berlin](http://people.physik.hu-berlin.de/~julien/sub/EinfuehrungFehlerrechnung_v2_Python.pdf)"
      ],
      "metadata": {
        "id": "Gd3RPXFKqN-L"
      }
    },
    {
      "cell_type": "code",
      "source": [
        "# Import von Modulen\n",
        "import math as m\n",
        "import numpy as np\n",
        "import statistics as stat\n",
        "\n",
        "from sympy import *"
      ],
      "metadata": {
        "id": "dq0misOol80l"
      },
      "execution_count": null,
      "outputs": []
    },
    {
      "cell_type": "markdown",
      "source": [
        "\n",
        "### Definition des Mittelwertes\n",
        "\n",
        "\\begin{equation}\n",
        "\\bar{x}=\\frac{1}{n}\\sum\\limits_{i=0}^{n}x_i\n",
        "\\end{equation}\n",
        "*  $\\bar{x}$: Arithmetischer Mittlewert\n",
        "*  $n$: Anzahl aller (Mess)Werte\n",
        "*  $x_i$: $i$-ter (Mess)Wert"
      ],
      "metadata": {
        "id": "blCkXSZKscKz"
      }
    },
    {
      "cell_type": "code",
      "source": [
        "### Minibeispiel ###\n",
        "# Berechnung Ar. Mittelwert (MW)\n",
        "messwerte = [1.0456, 0.9774, 1.0023, 0.9904, 1.3995]\n",
        "# funktion 'mean' des Moduls 'statistics'\n",
        "stat.mean(messwerte)"
      ],
      "metadata": {
        "colab": {
          "base_uri": "https://localhost:8080/"
        },
        "id": "G5cn0_gNiDcF",
        "outputId": "9af0a842-fcd8-46d2-ca1c-9d968faecc82"
      },
      "execution_count": null,
      "outputs": [
        {
          "output_type": "execute_result",
          "data": {
            "text/plain": [
              "1.08304"
            ]
          },
          "metadata": {},
          "execution_count": 10
        }
      ]
    },
    {
      "cell_type": "markdown",
      "source": [
        "### Definition Instrumenteller Gewichtungsfaktor\n",
        "\n",
        "\\begin{equation}\n",
        "p_i=\\frac{1}{u_i^2}\n",
        "\\end{equation}\n",
        "\n",
        "*  $p_i$: Gewichtungsfaktor des Wertes ($x_i \\pm u_i$)\n",
        "*  $u_i$: Unsicherheit des Wertes ($x_i \\pm u_i$)"
      ],
      "metadata": {
        "id": "y8mysbgusPxR"
      }
    },
    {
      "cell_type": "markdown",
      "source": [
        "### Definition des gewichteten Mittelwertes\n",
        "\n",
        "\\begin{equation}\n",
        "\\bar{x} = \\frac{\\sum\\limits_{i}^{n}p_i*x_i}{\\sum\\limits_{i=0}^{n}p_i}\n",
        "\\end{equation}\n",
        "*  $\\bar{x}$: Gewichtungsfaktor des Wertes ($x_i \\pm u_i$)\n",
        "*  $n$: Anzahl aller Werte\n",
        "*  $x_i$: $i$-ter Wert\n",
        "*  $i$-ter Gewichtungsfaktor"
      ],
      "metadata": {
        "id": "k-VRtUuurycR"
      }
    },
    {
      "cell_type": "markdown",
      "source": [
        "### Definition Unsicherheit des gewichteten Mittelwertes\n",
        "\n",
        "\\begin{equation}\n",
        "\\bar{u}=\\pm\\sqrt{\\frac{C}{\\sum\\limits_{i}^{n}p_i}} \\Rightarrow \\bar{u}=\\pm(\\sum\\limits_{i}^{n}p_i)^{-\\frac{1}{2}}\n",
        "\\end{equation}\n",
        "\n",
        "*  $\\bar{u}$: Unsicherheit des gewichteten Mittelwerts\n",
        "*  $n$: Anzahl aller Werte\n",
        "*  $C$: frei wählbarer Proportionalitätsfaktor\n",
        "*  $p_i$: $i$-ter Gewichtungsfaktor"
      ],
      "metadata": {
        "id": "hpK0K5Xcrdqs"
      }
    },
    {
      "cell_type": "markdown",
      "source": [
        "### Beispiel 1"
      ],
      "metadata": {
        "id": "5vA0l0XXvAyX"
      }
    },
    {
      "cell_type": "code",
      "source": [
        "# Werte für die gemessene Erdbeschleunigung\n",
        "g = np.array([9.81, 9.79, 9.80, 9.60])\n",
        "# Bestimmte Unsicherheit\n",
        "u = np.array([0.03, 0.11, 0.04, 0.70])\n",
        "# Berechnung des Gewichtungsfaktors p_i (1.2)\n",
        "p = 1.0 / u**2\n",
        "# Liste [gewichteter MW (1.3), Unsicherheit des gewichteten MW (1.4)]\n",
        "[sum(g * p) / sum(p), 1.0 / np.sqrt(sum(p))]\n"
      ],
      "metadata": {
        "colab": {
          "base_uri": "https://localhost:8080/"
        },
        "id": "m6jxqADWt1kx",
        "outputId": "a87d7702-7b80-4003-b784-319d3bf9d8ac"
      },
      "execution_count": null,
      "outputs": [
        {
          "output_type": "execute_result",
          "data": {
            "text/plain": [
              "[9.805424275180432, 0.023435233683447708]"
            ]
          },
          "metadata": {},
          "execution_count": 11
        }
      ]
    },
    {
      "cell_type": "markdown",
      "source": [
        "### Definition Pythagoreische Addition\n",
        "\n",
        "\\begin{equation}\n",
        "u=\\sqrt{\\sum\\limits_{i}^{n}u_i^2}\n",
        "\\end{equation}\n",
        "\n",
        "*  $u$: Pythagoreisch addierter Wert\n",
        "*  $n$: Anzahl aller Werte\n",
        "*  $u_i$: $i$-ter Wert"
      ],
      "metadata": {
        "id": "WOOg52PrxOhL"
      }
    },
    {
      "cell_type": "markdown",
      "source": [
        "### Definition Empirische Standardabweichung\n",
        "\n",
        "\\begin{equation}\n",
        "\\sigma = \\sqrt{\\frac{1}{n-1}\\sum\\limits_{i}^{n}(x_i-\\bar{x})^2)}\n",
        "\\end{equation}\n",
        "\n",
        "*  $\\sigma$: Standardabweichung\n",
        "*  $n$: Anzahl aller Messwerte\n",
        "*  $x_i$: $i$-ter Messwert\n",
        "*  $\\bar{x}$: Arithmetischer Mittelwert der Messwerte"
      ],
      "metadata": {
        "id": "rWk7V3ICyZG_"
      }
    },
    {
      "cell_type": "code",
      "source": [
        "### Minibeispiel ###\n",
        "# berechnung Standardabweichung\n",
        "g = [9.81279, 9.83616, 9.76557, 9.78496, 9.84230,\n",
        "9.75096, 9.72767, 9.84866, 9.74724, 9.76847]\n",
        "stat.stdev(g)"
      ],
      "metadata": {
        "colab": {
          "base_uri": "https://localhost:8080/"
        },
        "id": "KEXQXsG6zpRa",
        "outputId": "2820826d-94f3-4f03-837d-0709701affd5"
      },
      "execution_count": null,
      "outputs": [
        {
          "output_type": "execute_result",
          "data": {
            "text/plain": [
              "0.04362286092813679"
            ]
          },
          "metadata": {},
          "execution_count": 12
        }
      ]
    },
    {
      "cell_type": "markdown",
      "source": [
        "### Definition Vertrauensbereich ($n\\geq6$)\n",
        "\n",
        "\\begin{equation}\n",
        "\\bar{s}=\\pm t*\\frac{\\sigma}{\\sqrt{n}}\n",
        "\\end{equation}\n",
        "\n",
        "*  $\\bar{s}$: Vertrauesbereich\n",
        "*  $\\sigma$: Standardabweichung\n",
        "*  $n$: Anzahl aller Messwerte\n",
        "*  $t$: Student T-Wert"
      ],
      "metadata": {
        "id": "X4m29PxW1ROa"
      }
    },
    {
      "cell_type": "code",
      "source": [
        "# Python t-Wert\n",
        "from scipy import stats\n",
        "stats.t.ppf(1-0.025, 14)"
      ],
      "metadata": {
        "colab": {
          "base_uri": "https://localhost:8080/"
        },
        "id": "qYn24xR922Gl",
        "outputId": "825f4abc-7283-4c96-cce1-3dbdecbc7ccd"
      },
      "execution_count": null,
      "outputs": [
        {
          "output_type": "execute_result",
          "data": {
            "text/plain": [
              "2.1447866879169273"
            ]
          },
          "metadata": {},
          "execution_count": 13
        }
      ]
    },
    {
      "cell_type": "markdown",
      "source": [
        "### Definition Größtfehlerabschätzung ($n<6$)\n",
        "\n",
        "\\begin{equation}\n",
        "\\bar{s} \\approx \\pm \\max_i \\vert x_i - \\bar{x} \\vert\n",
        "\\end{equation}\n",
        "\n",
        "*  $\\bar{s}$: Abgeschätzter Vertrauensbereich\n",
        "*  $x_i$: $i$-ter Messwert\n",
        "* $\\bar{x}$: Mittelwert"
      ],
      "metadata": {
        "id": "7a_fZ3-e32j-"
      }
    },
    {
      "cell_type": "code",
      "source": [
        "### Minibeispiel ###\n",
        "# Vertrauensbereich (Berechnung ohne t-Wert)\n",
        "g = [9.81279, 9.83616, 9.76557, 9.78496, 9.84230,\n",
        "9.75096, 9.72767, 9.84866, 9.74724, 9.76847]\n",
        "[np.std(g, ddof=1) / np.sqrt(len(g)), max(abs(g - np.mean(g)))]"
      ],
      "metadata": {
        "colab": {
          "base_uri": "https://localhost:8080/"
        },
        "id": "COcKd-445j9x",
        "outputId": "4893491c-99d2-4953-e3ba-19ffbbcbe28b"
      },
      "execution_count": null,
      "outputs": [
        {
          "output_type": "execute_result",
          "data": {
            "text/plain": [
              "[0.013794759858567901, 0.06080800000000153]"
            ]
          },
          "metadata": {},
          "execution_count": 14
        }
      ]
    },
    {
      "cell_type": "markdown",
      "source": [
        "### Kochrezept Messwertberechnung\n",
        "\n",
        "1.   Mittelwert berechnen \n",
        "\\begin{equation}\n",
        "\\bar{x}=\\frac{1}{n}\\sum\\limits_{i=0}^{n}x_i\n",
        "\\end{equation}\n",
        "2.   Bekannte systematische Fehler korrigieren (sehr selten)\n",
        "\\begin{equation}\n",
        "\\bar{x}_k=\\bar{x}-u_{sys}\n",
        "\\end{equation}\n",
        "3.   Vertrauensbereich berechnen\n",
        "\\begin{equation}\n",
        "\\bar{s}=\\pm\\left\\{\n",
        "\\begin{array}{ll}\n",
        "t*\\frac{\\sigma}{\\sqrt{n}}=t*\\sqrt{\\frac{1}{n(n-1)}\\sum\\limits_{i}^{n}(x_i-\\bar{x})^2} & n \\geq 6 \\\\\n",
        "\\bar{s} \\approx \\pm \\max_i \\vert x_i - \\bar{x} \\vert & \\, n<6 \\\\\n",
        "\\end{array}\n",
        "\\right.\n",
        "\\end{equation}\n",
        "4.   Messunsicherheit durch pythagoreisches Addieren aller Unsicherheiten berechnen\n",
        "\\begin{equation}\n",
        "u=\\sqrt{\\bar{s}^2+u_{gerät}^2+u_{ablesen}^2+...}\n",
        "\\end{equation}\n",
        "5.   Ergebnis auf signifikante Stellen runden, mit Einheit (und Zehnerpotenz oder SI-\n",
        "Präfix) angeben.\n",
        "\n"
      ],
      "metadata": {
        "id": "zBsVVGBe-PnT"
      }
    },
    {
      "cell_type": "markdown",
      "source": [
        "### Beispiel 2\n",
        "Im Pantheon in Paris liegen neben berühmten Franzosen auch einige berühmte Physiker\n",
        "begraben. Ebenfalls hängt dort ein 67 m langes Foucaultsches Pendel in der Hauptkuppel herunter. Es wurden 17 Periodendauern mit einem Handy gemessen und zu einem\n",
        "Messwert berechnet. Dabei wurden angenommen: zweimal 0.15 s Unsicherheit in der Re-\n",
        "aktionszeit, 10 ms Ableseungenauigkeit (1dgt.) und 10-4 · t systematische Unsicherheit\n",
        "der Handyuhr.\n"
      ],
      "metadata": {
        "id": "R5fJkiOjD0nN"
      }
    },
    {
      "cell_type": "code",
      "source": [
        "# Installation und einbindung eines Moduls, welches auf signifikante Stellen, \n",
        "# anhand von Unsicherheit, rundet.\n",
        "!pip install uncertainties\n",
        "import uncertainties"
      ],
      "metadata": {
        "colab": {
          "base_uri": "https://localhost:8080/"
        },
        "id": "dnP42nBZn8iL",
        "outputId": "df48a5e1-6678-45b2-aa7e-e72dde714946"
      },
      "execution_count": null,
      "outputs": [
        {
          "output_type": "stream",
          "name": "stdout",
          "text": [
            "Looking in indexes: https://pypi.org/simple, https://us-python.pkg.dev/colab-wheels/public/simple/\n",
            "Requirement already satisfied: uncertainties in /usr/local/lib/python3.7/dist-packages (3.1.7)\n",
            "Requirement already satisfied: future in /usr/local/lib/python3.7/dist-packages (from uncertainties) (0.16.0)\n"
          ]
        }
      ]
    },
    {
      "cell_type": "code",
      "source": [
        "# 0. Messreihe\n",
        "tMess = [16.38, 16.66, 16.54, 16.38, 16.31, 16.23, 16.56, 16.52, 16.32,\n",
        "16.48, 16.41, 16.32, 16.38, 16.34, 16.27, 16.35, 16.44]\n",
        "\n",
        "# 1. Mittelwertbildung\n",
        "t = np.mean(tMess)\n",
        "\n",
        "# 2. Bias \n",
        "pass\n",
        "\n",
        "# 3. Vertrauensbereich\n",
        "statU = np.std(tMess, ddof=1) / np.sqrt(len(tMess))\n",
        "\n",
        "# 4. Messunsuicherheit durch pythagoreisches Addieren\n",
        "reaktU = 0.15 #Reaktionszeit\n",
        "ableseU = 0.01 #Ableseungenauigkeit\n",
        "systU = 0.0001 * t #syst. Unsicherheit Uhr\n",
        "ut = np.sqrt(statU**2 + 2 * reaktU**2 + ableseU**2 + systU**2)\n",
        "\n",
        "# 5. Runden auf die zweite signifikante Stelle\n",
        "def runden_auf_2(x, ux):\n",
        "  sig2 = -int(m.floor(m.log10(abs(ux))))+1\n",
        "  return (round(x, sig2), round(ux, sig2))\n",
        "\n",
        "runden_auf_2(t, ut)"
      ],
      "metadata": {
        "colab": {
          "base_uri": "https://localhost:8080/"
        },
        "id": "kYEKfLNUD7_f",
        "outputId": "b33fee9e-630c-4c61-ed92-305a1218ebfb"
      },
      "execution_count": null,
      "outputs": [
        {
          "output_type": "execute_result",
          "data": {
            "text/plain": [
              "(16.41, 0.21)"
            ]
          },
          "metadata": {},
          "execution_count": 24
        }
      ]
    },
    {
      "cell_type": "markdown",
      "source": [
        "### Definition Unkorrelierte Gaußsche Fehlerfortpflanzung\n",
        "\n",
        "\\begin{equation}\n",
        "u_f = \\sqrt{\\sum\\limits_{i=0}^{n}(\\frac{\\partial f(x_1, x_2, ..., x_n)}{\\partial x_i}*u_i)^2}\n",
        "\\end{equation}\n",
        "\n",
        "*  $u_f$: Fortgepflanzte Unsicherheit der berechneten Funktion $f(x_1, x_2, ..., x_n)$\n",
        "*  $n$: Anzahl aller Werte\n",
        "*  $x_i$: $i$-te Variable/Wert\n",
        "*  $u_i$: $i$-te Unsicherheit\n",
        "\n",
        "In Python, können die Ableitungen mit dem Package SymPy automatisch berechnet werden und die Fehlerfortpflanzung manuell eingetippt werden."
      ],
      "metadata": {
        "id": "1WTTG3ZRHa_R"
      }
    },
    {
      "cell_type": "code",
      "source": [
        "u, i, uu, ui = symbols(\"u,i,uu,ui\")\n",
        "r = u / i\n",
        "ur = sqrt((diff(r, u) * uu)**2 + (diff(r, i) * ui)**2)\n",
        "ur.subs([(u, 238.46), (uu, 7.34), (i, 0.9239), (ui, 0.0081)])"
      ],
      "metadata": {
        "colab": {
          "base_uri": "https://localhost:8080/",
          "height": 37
        },
        "id": "V5N1gtZAJq53",
        "outputId": "2ca42945-faee-4bbc-d2b4-beebcb1e5e29"
      },
      "execution_count": null,
      "outputs": [
        {
          "output_type": "execute_result",
          "data": {
            "text/plain": [
              "8.26055469654989"
            ],
            "text/latex": "$\\displaystyle 8.26055469654989$"
          },
          "metadata": {},
          "execution_count": 18
        }
      ]
    },
    {
      "cell_type": "markdown",
      "source": [
        "### Definition: Zusammenhang Korrelation, Kovarianz und Unsicherheit\n",
        "\n",
        "\\begin{equation}\n",
        "C_{i,j}=\\frac{u_{i,j}}{u_i+u_j}\n",
        "\\end{equation}\n",
        "\n",
        "*  $C_{i,j}$: Korrelationskoeffizient $C_{i,j} \\in [-1,+1]$ der Werte $x_i$ und $x_j$\n",
        "*  $u_{i,j}$: Kovarianz der Werte xi und xj\n",
        "*  $u_i$: $i$-te Unsicherheit des xi Werts\n",
        "*  $u_j$: $j$-te Unsicherheit des xj Werts\n",
        "Komplizierte händische Berechnung. Python:"
      ],
      "metadata": {
        "id": "KrZNHQJrPhfF"
      }
    },
    {
      "cell_type": "code",
      "source": [
        "x_simple = np.array([-3.49, 2.33, 0.63, 2.8, -4.72, -1.84, 1.81, 0.36, -1.99, -0.65])\n",
        "y_simple = np.array([0.78, -0.53, -0.28, -0.39, 0.75, 0.60, -0.45, 0.05, 0.42, 0.12])\n",
        "my_rho = np.corrcoef(x_simple, y_simple)\n",
        "\n",
        "print(my_rho)"
      ],
      "metadata": {
        "colab": {
          "base_uri": "https://localhost:8080/"
        },
        "id": "FqBV2qAsRdRx",
        "outputId": "6085c42f-85f4-4a60-e322-700a8cd06e06"
      },
      "execution_count": null,
      "outputs": [
        {
          "output_type": "stream",
          "name": "stdout",
          "text": [
            "[[ 1.        -0.9616651]\n",
            " [-0.9616651  1.       ]]\n"
          ]
        }
      ]
    },
    {
      "cell_type": "markdown",
      "source": [
        "### Definition Korrelierte Fortpflanzung (wtf)\n",
        "\n",
        "\\begin{equation}\n",
        "u_f=\\sqrt{\\sum\\limits_{i}^{n}(\\frac{\\partial f(x_1,...}{\\partial x_i}*u_i)^2+\\sum\\limits_{i}^{n-1}\\sum\\limits_{j=i+1}^{n}\\frac{\\partial f(x_1,...)}{\\partial x_i}*\\frac{\\partial f(x_1,...)}{\\partial x_j}*u_{i,j}}\n",
        "\\end{equation}\n",
        "\n",
        "*  $u_f$: Fortgepflanzte Unsicherheit der berechneten Funktion $f(x_1, x_2, ..., x_n)$\n",
        "*  $n$: Anzahl aller Werte\n",
        "*  $x_i$: $i$-te Variable/Wert\n",
        "*  $u_i$: $i$-te Unsicherheit\n",
        "*  $u_{i,j}$: Kovarianz der Werte $x_i$ und $x_j$\n",
        "\n",
        "Definition über Kovarianzmatrix $(\\underline{U})_{i,j}=u_{i,j}$:\n",
        "\\begin{equation}\n",
        "u_f=\\sqrt{\\nabla^T f * \\underline{U} * \\nabla f}\n",
        "\\end{equation}"
      ],
      "metadata": {
        "id": "TJtkkX6QSpcY"
      }
    },
    {
      "cell_type": "code",
      "source": [
        "u, i, uu, ui, uui = symbols(\"u,i,uu,ui,uui\")\n",
        "r = u / i\n",
        "ur = sqrt((diff(r, u) * uu)**2 + (diff(r, i) * ui)**2 +\n",
        "2 * diff(r, u) * diff(r, i) * uui)\n",
        "ur.subs([(u, 238.46), (uu, 7.34), (i, 0.9239),\n",
        "(ui, 0.0081), (uui, -0.0545)])"
      ],
      "metadata": {
        "colab": {
          "base_uri": "https://localhost:8080/",
          "height": 37
        },
        "id": "aEBHohiYXnDR",
        "outputId": "94b2e717-8c02-43e4-868a-35cce63a7306"
      },
      "execution_count": null,
      "outputs": [
        {
          "output_type": "execute_result",
          "data": {
            "text/plain": [
              "10.0595845339953"
            ],
            "text/latex": "$\\displaystyle 10.0595845339953$"
          },
          "metadata": {},
          "execution_count": 20
        }
      ]
    }
  ]
}